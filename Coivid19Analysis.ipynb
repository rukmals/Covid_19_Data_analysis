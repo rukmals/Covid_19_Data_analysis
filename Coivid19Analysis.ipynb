{
  "nbformat": 4,
  "nbformat_minor": 0,
  "metadata": {
    "colab": {
      "name": "Coivid19Analysis.ipynb",
      "provenance": [],
      "authorship_tag": "ABX9TyP8rE7a8YF2+UMcNW+RDfG0",
      "include_colab_link": true
    },
    "kernelspec": {
      "name": "python3",
      "display_name": "Python 3"
    }
  },
  "cells": [
    {
      "cell_type": "markdown",
      "metadata": {
        "id": "view-in-github",
        "colab_type": "text"
      },
      "source": [
        "<a href=\"https://colab.research.google.com/github/rukmals/Covid_19_Data_analysis/blob/master/Coivid19Analysis.ipynb\" target=\"_parent\"><img src=\"https://colab.research.google.com/assets/colab-badge.svg\" alt=\"Open In Colab\"/></a>"
      ]
    },
    {
      "cell_type": "code",
      "metadata": {
        "id": "BwWyLOxtiiZQ",
        "colab_type": "code",
        "colab": {}
      },
      "source": [
        "import pandas as pd\n",
        "\n",
        "data = pd.read_csv('/content/sample_data/owid-covid-data.csv')"
      ],
      "execution_count": null,
      "outputs": []
    },
    {
      "cell_type": "code",
      "metadata": {
        "id": "EAtA7mY4i6mh",
        "colab_type": "code",
        "colab": {
          "base_uri": "https://localhost:8080/",
          "height": 309
        },
        "outputId": "2c5b6f94-eb52-4851-dee1-dff779ec6ce4"
      },
      "source": [
        "data.head()"
      ],
      "execution_count": null,
      "outputs": [
        {
          "output_type": "execute_result",
          "data": {
            "text/html": [
              "<div>\n",
              "<style scoped>\n",
              "    .dataframe tbody tr th:only-of-type {\n",
              "        vertical-align: middle;\n",
              "    }\n",
              "\n",
              "    .dataframe tbody tr th {\n",
              "        vertical-align: top;\n",
              "    }\n",
              "\n",
              "    .dataframe thead th {\n",
              "        text-align: right;\n",
              "    }\n",
              "</style>\n",
              "<table border=\"1\" class=\"dataframe\">\n",
              "  <thead>\n",
              "    <tr style=\"text-align: right;\">\n",
              "      <th></th>\n",
              "      <th>iso_code</th>\n",
              "      <th>continent</th>\n",
              "      <th>location</th>\n",
              "      <th>date</th>\n",
              "      <th>total_cases</th>\n",
              "      <th>new_cases</th>\n",
              "      <th>total_deaths</th>\n",
              "      <th>new_deaths</th>\n",
              "      <th>total_cases_per_million</th>\n",
              "      <th>new_cases_per_million</th>\n",
              "      <th>total_deaths_per_million</th>\n",
              "      <th>new_deaths_per_million</th>\n",
              "      <th>total_tests</th>\n",
              "      <th>new_tests</th>\n",
              "      <th>total_tests_per_thousand</th>\n",
              "      <th>new_tests_per_thousand</th>\n",
              "      <th>new_tests_smoothed</th>\n",
              "      <th>new_tests_smoothed_per_thousand</th>\n",
              "      <th>tests_units</th>\n",
              "      <th>stringency_index</th>\n",
              "      <th>population</th>\n",
              "      <th>population_density</th>\n",
              "      <th>median_age</th>\n",
              "      <th>aged_65_older</th>\n",
              "      <th>aged_70_older</th>\n",
              "      <th>gdp_per_capita</th>\n",
              "      <th>extreme_poverty</th>\n",
              "      <th>cardiovasc_death_rate</th>\n",
              "      <th>diabetes_prevalence</th>\n",
              "      <th>female_smokers</th>\n",
              "      <th>male_smokers</th>\n",
              "      <th>handwashing_facilities</th>\n",
              "      <th>hospital_beds_per_thousand</th>\n",
              "      <th>life_expectancy</th>\n",
              "    </tr>\n",
              "  </thead>\n",
              "  <tbody>\n",
              "    <tr>\n",
              "      <th>0</th>\n",
              "      <td>AFG</td>\n",
              "      <td>Asia</td>\n",
              "      <td>Afghanistan</td>\n",
              "      <td>2019-12-31</td>\n",
              "      <td>0.0</td>\n",
              "      <td>0.0</td>\n",
              "      <td>0.0</td>\n",
              "      <td>0.0</td>\n",
              "      <td>0.0</td>\n",
              "      <td>0.0</td>\n",
              "      <td>0.0</td>\n",
              "      <td>0.0</td>\n",
              "      <td>NaN</td>\n",
              "      <td>NaN</td>\n",
              "      <td>NaN</td>\n",
              "      <td>NaN</td>\n",
              "      <td>NaN</td>\n",
              "      <td>NaN</td>\n",
              "      <td>NaN</td>\n",
              "      <td>NaN</td>\n",
              "      <td>38928341.0</td>\n",
              "      <td>54.422</td>\n",
              "      <td>18.6</td>\n",
              "      <td>2.581</td>\n",
              "      <td>1.337</td>\n",
              "      <td>1803.987</td>\n",
              "      <td>NaN</td>\n",
              "      <td>597.029</td>\n",
              "      <td>9.59</td>\n",
              "      <td>NaN</td>\n",
              "      <td>NaN</td>\n",
              "      <td>37.746</td>\n",
              "      <td>0.5</td>\n",
              "      <td>64.83</td>\n",
              "    </tr>\n",
              "    <tr>\n",
              "      <th>1</th>\n",
              "      <td>AFG</td>\n",
              "      <td>Asia</td>\n",
              "      <td>Afghanistan</td>\n",
              "      <td>2020-01-01</td>\n",
              "      <td>0.0</td>\n",
              "      <td>0.0</td>\n",
              "      <td>0.0</td>\n",
              "      <td>0.0</td>\n",
              "      <td>0.0</td>\n",
              "      <td>0.0</td>\n",
              "      <td>0.0</td>\n",
              "      <td>0.0</td>\n",
              "      <td>NaN</td>\n",
              "      <td>NaN</td>\n",
              "      <td>NaN</td>\n",
              "      <td>NaN</td>\n",
              "      <td>NaN</td>\n",
              "      <td>NaN</td>\n",
              "      <td>NaN</td>\n",
              "      <td>0.0</td>\n",
              "      <td>38928341.0</td>\n",
              "      <td>54.422</td>\n",
              "      <td>18.6</td>\n",
              "      <td>2.581</td>\n",
              "      <td>1.337</td>\n",
              "      <td>1803.987</td>\n",
              "      <td>NaN</td>\n",
              "      <td>597.029</td>\n",
              "      <td>9.59</td>\n",
              "      <td>NaN</td>\n",
              "      <td>NaN</td>\n",
              "      <td>37.746</td>\n",
              "      <td>0.5</td>\n",
              "      <td>64.83</td>\n",
              "    </tr>\n",
              "    <tr>\n",
              "      <th>2</th>\n",
              "      <td>AFG</td>\n",
              "      <td>Asia</td>\n",
              "      <td>Afghanistan</td>\n",
              "      <td>2020-01-02</td>\n",
              "      <td>0.0</td>\n",
              "      <td>0.0</td>\n",
              "      <td>0.0</td>\n",
              "      <td>0.0</td>\n",
              "      <td>0.0</td>\n",
              "      <td>0.0</td>\n",
              "      <td>0.0</td>\n",
              "      <td>0.0</td>\n",
              "      <td>NaN</td>\n",
              "      <td>NaN</td>\n",
              "      <td>NaN</td>\n",
              "      <td>NaN</td>\n",
              "      <td>NaN</td>\n",
              "      <td>NaN</td>\n",
              "      <td>NaN</td>\n",
              "      <td>0.0</td>\n",
              "      <td>38928341.0</td>\n",
              "      <td>54.422</td>\n",
              "      <td>18.6</td>\n",
              "      <td>2.581</td>\n",
              "      <td>1.337</td>\n",
              "      <td>1803.987</td>\n",
              "      <td>NaN</td>\n",
              "      <td>597.029</td>\n",
              "      <td>9.59</td>\n",
              "      <td>NaN</td>\n",
              "      <td>NaN</td>\n",
              "      <td>37.746</td>\n",
              "      <td>0.5</td>\n",
              "      <td>64.83</td>\n",
              "    </tr>\n",
              "    <tr>\n",
              "      <th>3</th>\n",
              "      <td>AFG</td>\n",
              "      <td>Asia</td>\n",
              "      <td>Afghanistan</td>\n",
              "      <td>2020-01-03</td>\n",
              "      <td>0.0</td>\n",
              "      <td>0.0</td>\n",
              "      <td>0.0</td>\n",
              "      <td>0.0</td>\n",
              "      <td>0.0</td>\n",
              "      <td>0.0</td>\n",
              "      <td>0.0</td>\n",
              "      <td>0.0</td>\n",
              "      <td>NaN</td>\n",
              "      <td>NaN</td>\n",
              "      <td>NaN</td>\n",
              "      <td>NaN</td>\n",
              "      <td>NaN</td>\n",
              "      <td>NaN</td>\n",
              "      <td>NaN</td>\n",
              "      <td>0.0</td>\n",
              "      <td>38928341.0</td>\n",
              "      <td>54.422</td>\n",
              "      <td>18.6</td>\n",
              "      <td>2.581</td>\n",
              "      <td>1.337</td>\n",
              "      <td>1803.987</td>\n",
              "      <td>NaN</td>\n",
              "      <td>597.029</td>\n",
              "      <td>9.59</td>\n",
              "      <td>NaN</td>\n",
              "      <td>NaN</td>\n",
              "      <td>37.746</td>\n",
              "      <td>0.5</td>\n",
              "      <td>64.83</td>\n",
              "    </tr>\n",
              "    <tr>\n",
              "      <th>4</th>\n",
              "      <td>AFG</td>\n",
              "      <td>Asia</td>\n",
              "      <td>Afghanistan</td>\n",
              "      <td>2020-01-04</td>\n",
              "      <td>0.0</td>\n",
              "      <td>0.0</td>\n",
              "      <td>0.0</td>\n",
              "      <td>0.0</td>\n",
              "      <td>0.0</td>\n",
              "      <td>0.0</td>\n",
              "      <td>0.0</td>\n",
              "      <td>0.0</td>\n",
              "      <td>NaN</td>\n",
              "      <td>NaN</td>\n",
              "      <td>NaN</td>\n",
              "      <td>NaN</td>\n",
              "      <td>NaN</td>\n",
              "      <td>NaN</td>\n",
              "      <td>NaN</td>\n",
              "      <td>0.0</td>\n",
              "      <td>38928341.0</td>\n",
              "      <td>54.422</td>\n",
              "      <td>18.6</td>\n",
              "      <td>2.581</td>\n",
              "      <td>1.337</td>\n",
              "      <td>1803.987</td>\n",
              "      <td>NaN</td>\n",
              "      <td>597.029</td>\n",
              "      <td>9.59</td>\n",
              "      <td>NaN</td>\n",
              "      <td>NaN</td>\n",
              "      <td>37.746</td>\n",
              "      <td>0.5</td>\n",
              "      <td>64.83</td>\n",
              "    </tr>\n",
              "  </tbody>\n",
              "</table>\n",
              "</div>"
            ],
            "text/plain": [
              "  iso_code continent  ... hospital_beds_per_thousand life_expectancy\n",
              "0      AFG      Asia  ...                        0.5           64.83\n",
              "1      AFG      Asia  ...                        0.5           64.83\n",
              "2      AFG      Asia  ...                        0.5           64.83\n",
              "3      AFG      Asia  ...                        0.5           64.83\n",
              "4      AFG      Asia  ...                        0.5           64.83\n",
              "\n",
              "[5 rows x 34 columns]"
            ]
          },
          "metadata": {
            "tags": []
          },
          "execution_count": 30
        }
      ]
    },
    {
      "cell_type": "markdown",
      "metadata": {
        "id": "wo5asugvj7h2",
        "colab_type": "text"
      },
      "source": [
        ""
      ]
    },
    {
      "cell_type": "markdown",
      "metadata": {
        "id": "mANS6h-Jj7Xa",
        "colab_type": "text"
      },
      "source": [
        "\n",
        "\n",
        "```\n",
        "# This is formatted as code\n",
        "```\n",
        "\n"
      ]
    },
    {
      "cell_type": "code",
      "metadata": {
        "id": "3-6krP6ai9Sp",
        "colab_type": "code",
        "colab": {
          "base_uri": "https://localhost:8080/",
          "height": 433
        },
        "outputId": "501c234d-664c-49f8-d524-2feb1121ab34"
      },
      "source": [
        "df = pd.DataFrame({'location':data['location'],'date':data['date']})\n",
        "df.set_index(['location','date']).count(level = 'location')\n",
        "#df['location'].value_counts().tolist()"
      ],
      "execution_count": null,
      "outputs": [
        {
          "output_type": "execute_result",
          "data": {
            "text/html": [
              "<div>\n",
              "<style scoped>\n",
              "    .dataframe tbody tr th:only-of-type {\n",
              "        vertical-align: middle;\n",
              "    }\n",
              "\n",
              "    .dataframe tbody tr th {\n",
              "        vertical-align: top;\n",
              "    }\n",
              "\n",
              "    .dataframe thead th {\n",
              "        text-align: right;\n",
              "    }\n",
              "</style>\n",
              "<table border=\"1\" class=\"dataframe\">\n",
              "  <thead>\n",
              "    <tr style=\"text-align: right;\">\n",
              "      <th></th>\n",
              "    </tr>\n",
              "    <tr>\n",
              "      <th>location</th>\n",
              "    </tr>\n",
              "  </thead>\n",
              "  <tbody>\n",
              "    <tr>\n",
              "      <th>Afghanistan</th>\n",
              "    </tr>\n",
              "    <tr>\n",
              "      <th>Albania</th>\n",
              "    </tr>\n",
              "    <tr>\n",
              "      <th>Algeria</th>\n",
              "    </tr>\n",
              "    <tr>\n",
              "      <th>Andorra</th>\n",
              "    </tr>\n",
              "    <tr>\n",
              "      <th>Angola</th>\n",
              "    </tr>\n",
              "    <tr>\n",
              "      <th>...</th>\n",
              "    </tr>\n",
              "    <tr>\n",
              "      <th>Western Sahara</th>\n",
              "    </tr>\n",
              "    <tr>\n",
              "      <th>World</th>\n",
              "    </tr>\n",
              "    <tr>\n",
              "      <th>Yemen</th>\n",
              "    </tr>\n",
              "    <tr>\n",
              "      <th>Zambia</th>\n",
              "    </tr>\n",
              "    <tr>\n",
              "      <th>Zimbabwe</th>\n",
              "    </tr>\n",
              "  </tbody>\n",
              "</table>\n",
              "<p>212 rows × 0 columns</p>\n",
              "</div>"
            ],
            "text/plain": [
              "Empty DataFrame\n",
              "Columns: []\n",
              "Index: [Afghanistan, Albania, Algeria, Andorra, Angola, Anguilla, Antigua and Barbuda, Argentina, Armenia, Aruba, Australia, Austria, Azerbaijan, Bahamas, Bahrain, Bangladesh, Barbados, Belarus, Belgium, Belize, Benin, Bermuda, Bhutan, Bolivia, Bonaire Sint Eustatius and Saba, Bosnia and Herzegovina, Botswana, Brazil, British Virgin Islands, Brunei, Bulgaria, Burkina Faso, Burundi, Cambodia, Cameroon, Canada, Cape Verde, Cayman Islands, Central African Republic, Chad, Chile, China, Colombia, Comoros, Congo, Costa Rica, Cote d'Ivoire, Croatia, Cuba, Curacao, Cyprus, Czech Republic, Democratic Republic of Congo, Denmark, Djibouti, Dominica, Dominican Republic, Ecuador, Egypt, El Salvador, Equatorial Guinea, Eritrea, Estonia, Ethiopia, Faeroe Islands, Falkland Islands, Fiji, Finland, France, French Polynesia, Gabon, Gambia, Georgia, Germany, Ghana, Gibraltar, Greece, Greenland, Grenada, Guam, Guatemala, Guernsey, Guinea, Guinea-Bissau, Guyana, Haiti, Honduras, Hong Kong, Hungary, Iceland, India, Indonesia, International, Iran, Iraq, Ireland, Isle of Man, Israel, Italy, Jamaica, ...]\n",
              "\n",
              "[212 rows x 0 columns]"
            ]
          },
          "metadata": {
            "tags": []
          },
          "execution_count": 65
        }
      ]
    },
    {
      "cell_type": "code",
      "metadata": {
        "id": "mZg4GDGNjOIR",
        "colab_type": "code",
        "colab": {
          "base_uri": "https://localhost:8080/",
          "height": 309
        },
        "outputId": "03d27f46-95bb-449f-ad2f-4f72eab5d07b"
      },
      "source": [
        "#date\n",
        "#country\n",
        "#confirmed\n",
        "#Recovered\n",
        "#Death\n",
        "\n",
        "\n",
        "Afg = data[data['location']=='India'][153:203]\n",
        "\n",
        "Afg.head()"
      ],
      "execution_count": null,
      "outputs": [
        {
          "output_type": "execute_result",
          "data": {
            "text/html": [
              "<div>\n",
              "<style scoped>\n",
              "    .dataframe tbody tr th:only-of-type {\n",
              "        vertical-align: middle;\n",
              "    }\n",
              "\n",
              "    .dataframe tbody tr th {\n",
              "        vertical-align: top;\n",
              "    }\n",
              "\n",
              "    .dataframe thead th {\n",
              "        text-align: right;\n",
              "    }\n",
              "</style>\n",
              "<table border=\"1\" class=\"dataframe\">\n",
              "  <thead>\n",
              "    <tr style=\"text-align: right;\">\n",
              "      <th></th>\n",
              "      <th>iso_code</th>\n",
              "      <th>continent</th>\n",
              "      <th>location</th>\n",
              "      <th>date</th>\n",
              "      <th>total_cases</th>\n",
              "      <th>new_cases</th>\n",
              "      <th>total_deaths</th>\n",
              "      <th>new_deaths</th>\n",
              "      <th>total_cases_per_million</th>\n",
              "      <th>new_cases_per_million</th>\n",
              "      <th>total_deaths_per_million</th>\n",
              "      <th>new_deaths_per_million</th>\n",
              "      <th>total_tests</th>\n",
              "      <th>new_tests</th>\n",
              "      <th>total_tests_per_thousand</th>\n",
              "      <th>new_tests_per_thousand</th>\n",
              "      <th>new_tests_smoothed</th>\n",
              "      <th>new_tests_smoothed_per_thousand</th>\n",
              "      <th>tests_units</th>\n",
              "      <th>stringency_index</th>\n",
              "      <th>population</th>\n",
              "      <th>population_density</th>\n",
              "      <th>median_age</th>\n",
              "      <th>aged_65_older</th>\n",
              "      <th>aged_70_older</th>\n",
              "      <th>gdp_per_capita</th>\n",
              "      <th>extreme_poverty</th>\n",
              "      <th>cardiovasc_death_rate</th>\n",
              "      <th>diabetes_prevalence</th>\n",
              "      <th>female_smokers</th>\n",
              "      <th>male_smokers</th>\n",
              "      <th>handwashing_facilities</th>\n",
              "      <th>hospital_beds_per_thousand</th>\n",
              "      <th>life_expectancy</th>\n",
              "    </tr>\n",
              "  </thead>\n",
              "  <tbody>\n",
              "    <tr>\n",
              "      <th>13313</th>\n",
              "      <td>IND</td>\n",
              "      <td>Asia</td>\n",
              "      <td>India</td>\n",
              "      <td>2020-06-02</td>\n",
              "      <td>198706.0</td>\n",
              "      <td>8171.0</td>\n",
              "      <td>5598.0</td>\n",
              "      <td>204.0</td>\n",
              "      <td>143.989</td>\n",
              "      <td>5.921</td>\n",
              "      <td>4.057</td>\n",
              "      <td>0.148</td>\n",
              "      <td>3966075.0</td>\n",
              "      <td>128868.0</td>\n",
              "      <td>2.874</td>\n",
              "      <td>0.093</td>\n",
              "      <td>119994.0</td>\n",
              "      <td>0.087</td>\n",
              "      <td>samples tested</td>\n",
              "      <td>75.46</td>\n",
              "      <td>1.380004e+09</td>\n",
              "      <td>450.419</td>\n",
              "      <td>28.2</td>\n",
              "      <td>5.989</td>\n",
              "      <td>3.414</td>\n",
              "      <td>6426.674</td>\n",
              "      <td>21.2</td>\n",
              "      <td>282.28</td>\n",
              "      <td>10.39</td>\n",
              "      <td>1.9</td>\n",
              "      <td>20.6</td>\n",
              "      <td>59.55</td>\n",
              "      <td>0.53</td>\n",
              "      <td>69.66</td>\n",
              "    </tr>\n",
              "    <tr>\n",
              "      <th>13314</th>\n",
              "      <td>IND</td>\n",
              "      <td>Asia</td>\n",
              "      <td>India</td>\n",
              "      <td>2020-06-03</td>\n",
              "      <td>207615.0</td>\n",
              "      <td>8909.0</td>\n",
              "      <td>5815.0</td>\n",
              "      <td>217.0</td>\n",
              "      <td>150.445</td>\n",
              "      <td>6.456</td>\n",
              "      <td>4.214</td>\n",
              "      <td>0.157</td>\n",
              "      <td>4103233.0</td>\n",
              "      <td>137158.0</td>\n",
              "      <td>2.973</td>\n",
              "      <td>0.099</td>\n",
              "      <td>123010.0</td>\n",
              "      <td>0.089</td>\n",
              "      <td>samples tested</td>\n",
              "      <td>75.46</td>\n",
              "      <td>1.380004e+09</td>\n",
              "      <td>450.419</td>\n",
              "      <td>28.2</td>\n",
              "      <td>5.989</td>\n",
              "      <td>3.414</td>\n",
              "      <td>6426.674</td>\n",
              "      <td>21.2</td>\n",
              "      <td>282.28</td>\n",
              "      <td>10.39</td>\n",
              "      <td>1.9</td>\n",
              "      <td>20.6</td>\n",
              "      <td>59.55</td>\n",
              "      <td>0.53</td>\n",
              "      <td>69.66</td>\n",
              "    </tr>\n",
              "    <tr>\n",
              "      <th>13315</th>\n",
              "      <td>IND</td>\n",
              "      <td>Asia</td>\n",
              "      <td>India</td>\n",
              "      <td>2020-06-04</td>\n",
              "      <td>216919.0</td>\n",
              "      <td>9304.0</td>\n",
              "      <td>6075.0</td>\n",
              "      <td>260.0</td>\n",
              "      <td>157.187</td>\n",
              "      <td>6.742</td>\n",
              "      <td>4.402</td>\n",
              "      <td>0.188</td>\n",
              "      <td>4242718.0</td>\n",
              "      <td>139485.0</td>\n",
              "      <td>3.074</td>\n",
              "      <td>0.101</td>\n",
              "      <td>125797.0</td>\n",
              "      <td>0.091</td>\n",
              "      <td>samples tested</td>\n",
              "      <td>75.46</td>\n",
              "      <td>1.380004e+09</td>\n",
              "      <td>450.419</td>\n",
              "      <td>28.2</td>\n",
              "      <td>5.989</td>\n",
              "      <td>3.414</td>\n",
              "      <td>6426.674</td>\n",
              "      <td>21.2</td>\n",
              "      <td>282.28</td>\n",
              "      <td>10.39</td>\n",
              "      <td>1.9</td>\n",
              "      <td>20.6</td>\n",
              "      <td>59.55</td>\n",
              "      <td>0.53</td>\n",
              "      <td>69.66</td>\n",
              "    </tr>\n",
              "    <tr>\n",
              "      <th>13316</th>\n",
              "      <td>IND</td>\n",
              "      <td>Asia</td>\n",
              "      <td>India</td>\n",
              "      <td>2020-06-05</td>\n",
              "      <td>226770.0</td>\n",
              "      <td>9851.0</td>\n",
              "      <td>6348.0</td>\n",
              "      <td>273.0</td>\n",
              "      <td>164.326</td>\n",
              "      <td>7.138</td>\n",
              "      <td>4.600</td>\n",
              "      <td>0.198</td>\n",
              "      <td>4386379.0</td>\n",
              "      <td>143661.0</td>\n",
              "      <td>3.179</td>\n",
              "      <td>0.104</td>\n",
              "      <td>128934.0</td>\n",
              "      <td>0.093</td>\n",
              "      <td>samples tested</td>\n",
              "      <td>75.46</td>\n",
              "      <td>1.380004e+09</td>\n",
              "      <td>450.419</td>\n",
              "      <td>28.2</td>\n",
              "      <td>5.989</td>\n",
              "      <td>3.414</td>\n",
              "      <td>6426.674</td>\n",
              "      <td>21.2</td>\n",
              "      <td>282.28</td>\n",
              "      <td>10.39</td>\n",
              "      <td>1.9</td>\n",
              "      <td>20.6</td>\n",
              "      <td>59.55</td>\n",
              "      <td>0.53</td>\n",
              "      <td>69.66</td>\n",
              "    </tr>\n",
              "    <tr>\n",
              "      <th>13317</th>\n",
              "      <td>IND</td>\n",
              "      <td>Asia</td>\n",
              "      <td>India</td>\n",
              "      <td>2020-06-06</td>\n",
              "      <td>236657.0</td>\n",
              "      <td>9887.0</td>\n",
              "      <td>6642.0</td>\n",
              "      <td>294.0</td>\n",
              "      <td>171.490</td>\n",
              "      <td>7.164</td>\n",
              "      <td>4.813</td>\n",
              "      <td>0.213</td>\n",
              "      <td>4524317.0</td>\n",
              "      <td>137938.0</td>\n",
              "      <td>3.278</td>\n",
              "      <td>0.100</td>\n",
              "      <td>130388.0</td>\n",
              "      <td>0.094</td>\n",
              "      <td>samples tested</td>\n",
              "      <td>75.46</td>\n",
              "      <td>1.380004e+09</td>\n",
              "      <td>450.419</td>\n",
              "      <td>28.2</td>\n",
              "      <td>5.989</td>\n",
              "      <td>3.414</td>\n",
              "      <td>6426.674</td>\n",
              "      <td>21.2</td>\n",
              "      <td>282.28</td>\n",
              "      <td>10.39</td>\n",
              "      <td>1.9</td>\n",
              "      <td>20.6</td>\n",
              "      <td>59.55</td>\n",
              "      <td>0.53</td>\n",
              "      <td>69.66</td>\n",
              "    </tr>\n",
              "  </tbody>\n",
              "</table>\n",
              "</div>"
            ],
            "text/plain": [
              "      iso_code continent  ... hospital_beds_per_thousand life_expectancy\n",
              "13313      IND      Asia  ...                       0.53           69.66\n",
              "13314      IND      Asia  ...                       0.53           69.66\n",
              "13315      IND      Asia  ...                       0.53           69.66\n",
              "13316      IND      Asia  ...                       0.53           69.66\n",
              "13317      IND      Asia  ...                       0.53           69.66\n",
              "\n",
              "[5 rows x 34 columns]"
            ]
          },
          "metadata": {
            "tags": []
          },
          "execution_count": 93
        }
      ]
    },
    {
      "cell_type": "code",
      "metadata": {
        "id": "Y6Jo3RDDnPUB",
        "colab_type": "code",
        "colab": {}
      },
      "source": [
        "\n",
        "\n",
        "import altair as alt\n",
        "base = alt.Chart(Afg).mark_bar().encode(\n",
        "    x='date',\n",
        ").properties(\n",
        "    width=500\n",
        ")"
      ],
      "execution_count": null,
      "outputs": []
    },
    {
      "cell_type": "code",
      "metadata": {
        "id": "Eex6CEDKoiBo",
        "colab_type": "code",
        "colab": {
          "base_uri": "https://localhost:8080/",
          "height": 449
        },
        "outputId": "eacd0ada-8091-4def-bd61-89ad32663fc7"
      },
      "source": [
        "base.encode(y='total_deaths').properties(title=\"Confirmed Deaths\")|base.encode(y='total_cases').properties(title=\"Confirmed Cases\")"
      ],
      "execution_count": null,
      "outputs": [
        {
          "output_type": "execute_result",
          "data": {
            "text/plain": [
              "alt.HConcatChart(...)"
            ],
            "text/html": [
              "\n",
              "<div id=\"altair-viz-c15d43be40b44ef993129f62b49f4b12\"></div>\n",
              "<script type=\"text/javascript\">\n",
              "  (function(spec, embedOpt){\n",
              "    let outputDiv = document.currentScript.previousElementSibling;\n",
              "    if (outputDiv.id !== \"altair-viz-c15d43be40b44ef993129f62b49f4b12\") {\n",
              "      outputDiv = document.getElementById(\"altair-viz-c15d43be40b44ef993129f62b49f4b12\");\n",
              "    }\n",
              "    const paths = {\n",
              "      \"vega\": \"https://cdn.jsdelivr.net/npm//vega@5?noext\",\n",
              "      \"vega-lib\": \"https://cdn.jsdelivr.net/npm//vega-lib?noext\",\n",
              "      \"vega-lite\": \"https://cdn.jsdelivr.net/npm//vega-lite@4.8.1?noext\",\n",
              "      \"vega-embed\": \"https://cdn.jsdelivr.net/npm//vega-embed@6?noext\",\n",
              "    };\n",
              "\n",
              "    function loadScript(lib) {\n",
              "      return new Promise(function(resolve, reject) {\n",
              "        var s = document.createElement('script');\n",
              "        s.src = paths[lib];\n",
              "        s.async = true;\n",
              "        s.onload = () => resolve(paths[lib]);\n",
              "        s.onerror = () => reject(`Error loading script: ${paths[lib]}`);\n",
              "        document.getElementsByTagName(\"head\")[0].appendChild(s);\n",
              "      });\n",
              "    }\n",
              "\n",
              "    function showError(err) {\n",
              "      outputDiv.innerHTML = `<div class=\"error\" style=\"color:red;\">${err}</div>`;\n",
              "      throw err;\n",
              "    }\n",
              "\n",
              "    function displayChart(vegaEmbed) {\n",
              "      vegaEmbed(outputDiv, spec, embedOpt)\n",
              "        .catch(err => showError(`Javascript Error: ${err.message}<br>This usually means there's a typo in your chart specification. See the javascript console for the full traceback.`));\n",
              "    }\n",
              "\n",
              "    if(typeof define === \"function\" && define.amd) {\n",
              "      requirejs.config({paths});\n",
              "      require([\"vega-embed\"], displayChart, err => showError(`Error loading script: ${err.message}`));\n",
              "    } else if (typeof vegaEmbed === \"function\") {\n",
              "      displayChart(vegaEmbed);\n",
              "    } else {\n",
              "      loadScript(\"vega\")\n",
              "        .then(() => loadScript(\"vega-lite\"))\n",
              "        .then(() => loadScript(\"vega-embed\"))\n",
              "        .catch(showError)\n",
              "        .then(() => displayChart(vegaEmbed));\n",
              "    }\n",
              "  })({\"config\": {\"view\": {\"continuousWidth\": 400, \"continuousHeight\": 300}}, \"hconcat\": [{\"mark\": \"bar\", \"encoding\": {\"x\": {\"type\": \"nominal\", \"field\": \"date\"}, \"y\": {\"type\": \"quantitative\", \"field\": \"total_deaths\"}}, \"title\": \"Confirmed Deaths\", \"width\": 500}, {\"mark\": \"bar\", \"encoding\": {\"x\": {\"type\": \"nominal\", \"field\": \"date\"}, \"y\": {\"type\": \"quantitative\", \"field\": \"total_cases\"}}, \"title\": \"Confirmed Cases\", \"width\": 500}], \"data\": {\"name\": \"data-60daf0a3651f1039741dafcd32b3fd22\"}, \"$schema\": \"https://vega.github.io/schema/vega-lite/v4.8.1.json\", \"datasets\": {\"data-60daf0a3651f1039741dafcd32b3fd22\": [{\"iso_code\": \"IND\", \"continent\": \"Asia\", \"location\": \"India\", \"date\": \"2020-06-02\", \"total_cases\": 198706.0, \"new_cases\": 8171.0, \"total_deaths\": 5598.0, \"new_deaths\": 204.0, \"total_cases_per_million\": 143.989, \"new_cases_per_million\": 5.921, \"total_deaths_per_million\": 4.0569999999999995, \"new_deaths_per_million\": 0.14800000000000002, \"total_tests\": 3966075.0, \"new_tests\": 128868.0, \"total_tests_per_thousand\": 2.8739999999999997, \"new_tests_per_thousand\": 0.09300000000000001, \"new_tests_smoothed\": 119994.0, \"new_tests_smoothed_per_thousand\": 0.087, \"tests_units\": \"samples tested\", \"stringency_index\": 75.46, \"population\": 1380004385.0, \"population_density\": 450.41900000000004, \"median_age\": 28.2, \"aged_65_older\": 5.989, \"aged_70_older\": 3.4139999999999997, \"gdp_per_capita\": 6426.674, \"extreme_poverty\": 21.2, \"cardiovasc_death_rate\": 282.28, \"diabetes_prevalence\": 10.39, \"female_smokers\": 1.9, \"male_smokers\": 20.6, \"handwashing_facilities\": 59.55, \"hospital_beds_per_thousand\": 0.53, \"life_expectancy\": 69.66}, {\"iso_code\": \"IND\", \"continent\": \"Asia\", \"location\": \"India\", \"date\": \"2020-06-03\", \"total_cases\": 207615.0, \"new_cases\": 8909.0, \"total_deaths\": 5815.0, \"new_deaths\": 217.0, \"total_cases_per_million\": 150.445, \"new_cases_per_million\": 6.456, \"total_deaths_per_million\": 4.2139999999999995, \"new_deaths_per_million\": 0.157, \"total_tests\": 4103233.0, \"new_tests\": 137158.0, \"total_tests_per_thousand\": 2.9730000000000003, \"new_tests_per_thousand\": 0.099, \"new_tests_smoothed\": 123010.0, \"new_tests_smoothed_per_thousand\": 0.08900000000000001, \"tests_units\": \"samples tested\", \"stringency_index\": 75.46, \"population\": 1380004385.0, \"population_density\": 450.41900000000004, \"median_age\": 28.2, \"aged_65_older\": 5.989, \"aged_70_older\": 3.4139999999999997, \"gdp_per_capita\": 6426.674, \"extreme_poverty\": 21.2, \"cardiovasc_death_rate\": 282.28, \"diabetes_prevalence\": 10.39, \"female_smokers\": 1.9, \"male_smokers\": 20.6, \"handwashing_facilities\": 59.55, \"hospital_beds_per_thousand\": 0.53, \"life_expectancy\": 69.66}, {\"iso_code\": \"IND\", \"continent\": \"Asia\", \"location\": \"India\", \"date\": \"2020-06-04\", \"total_cases\": 216919.0, \"new_cases\": 9304.0, \"total_deaths\": 6075.0, \"new_deaths\": 260.0, \"total_cases_per_million\": 157.187, \"new_cases_per_million\": 6.742000000000001, \"total_deaths_per_million\": 4.402, \"new_deaths_per_million\": 0.188, \"total_tests\": 4242718.0, \"new_tests\": 139485.0, \"total_tests_per_thousand\": 3.074, \"new_tests_per_thousand\": 0.10099999999999999, \"new_tests_smoothed\": 125797.0, \"new_tests_smoothed_per_thousand\": 0.091, \"tests_units\": \"samples tested\", \"stringency_index\": 75.46, \"population\": 1380004385.0, \"population_density\": 450.41900000000004, \"median_age\": 28.2, \"aged_65_older\": 5.989, \"aged_70_older\": 3.4139999999999997, \"gdp_per_capita\": 6426.674, \"extreme_poverty\": 21.2, \"cardiovasc_death_rate\": 282.28, \"diabetes_prevalence\": 10.39, \"female_smokers\": 1.9, \"male_smokers\": 20.6, \"handwashing_facilities\": 59.55, \"hospital_beds_per_thousand\": 0.53, \"life_expectancy\": 69.66}, {\"iso_code\": \"IND\", \"continent\": \"Asia\", \"location\": \"India\", \"date\": \"2020-06-05\", \"total_cases\": 226770.0, \"new_cases\": 9851.0, \"total_deaths\": 6348.0, \"new_deaths\": 273.0, \"total_cases_per_million\": 164.326, \"new_cases_per_million\": 7.138, \"total_deaths_per_million\": 4.6, \"new_deaths_per_million\": 0.198, \"total_tests\": 4386379.0, \"new_tests\": 143661.0, \"total_tests_per_thousand\": 3.179, \"new_tests_per_thousand\": 0.10400000000000001, \"new_tests_smoothed\": 128934.0, \"new_tests_smoothed_per_thousand\": 0.09300000000000001, \"tests_units\": \"samples tested\", \"stringency_index\": 75.46, \"population\": 1380004385.0, \"population_density\": 450.41900000000004, \"median_age\": 28.2, \"aged_65_older\": 5.989, \"aged_70_older\": 3.4139999999999997, \"gdp_per_capita\": 6426.674, \"extreme_poverty\": 21.2, \"cardiovasc_death_rate\": 282.28, \"diabetes_prevalence\": 10.39, \"female_smokers\": 1.9, \"male_smokers\": 20.6, \"handwashing_facilities\": 59.55, \"hospital_beds_per_thousand\": 0.53, \"life_expectancy\": 69.66}, {\"iso_code\": \"IND\", \"continent\": \"Asia\", \"location\": \"India\", \"date\": \"2020-06-06\", \"total_cases\": 236657.0, \"new_cases\": 9887.0, \"total_deaths\": 6642.0, \"new_deaths\": 294.0, \"total_cases_per_million\": 171.49, \"new_cases_per_million\": 7.164, \"total_deaths_per_million\": 4.813, \"new_deaths_per_million\": 0.213, \"total_tests\": 4524317.0, \"new_tests\": 137938.0, \"total_tests_per_thousand\": 3.278, \"new_tests_per_thousand\": 0.1, \"new_tests_smoothed\": 130388.0, \"new_tests_smoothed_per_thousand\": 0.094, \"tests_units\": \"samples tested\", \"stringency_index\": 75.46, \"population\": 1380004385.0, \"population_density\": 450.41900000000004, \"median_age\": 28.2, \"aged_65_older\": 5.989, \"aged_70_older\": 3.4139999999999997, \"gdp_per_capita\": 6426.674, \"extreme_poverty\": 21.2, \"cardiovasc_death_rate\": 282.28, \"diabetes_prevalence\": 10.39, \"female_smokers\": 1.9, \"male_smokers\": 20.6, \"handwashing_facilities\": 59.55, \"hospital_beds_per_thousand\": 0.53, \"life_expectancy\": 69.66}, {\"iso_code\": \"IND\", \"continent\": \"Asia\", \"location\": \"India\", \"date\": \"2020-06-07\", \"total_cases\": 246628.0, \"new_cases\": 9971.0, \"total_deaths\": 6929.0, \"new_deaths\": 287.0, \"total_cases_per_million\": 178.715, \"new_cases_per_million\": 7.225, \"total_deaths_per_million\": 5.021, \"new_deaths_per_million\": 0.20800000000000002, \"total_tests\": 4666386.0, \"new_tests\": 142069.0, \"total_tests_per_thousand\": 3.3810000000000002, \"new_tests_per_thousand\": 0.10300000000000001, \"new_tests_smoothed\": 132766.0, \"new_tests_smoothed_per_thousand\": 0.096, \"tests_units\": \"samples tested\", \"stringency_index\": 75.46, \"population\": 1380004385.0, \"population_density\": 450.41900000000004, \"median_age\": 28.2, \"aged_65_older\": 5.989, \"aged_70_older\": 3.4139999999999997, \"gdp_per_capita\": 6426.674, \"extreme_poverty\": 21.2, \"cardiovasc_death_rate\": 282.28, \"diabetes_prevalence\": 10.39, \"female_smokers\": 1.9, \"male_smokers\": 20.6, \"handwashing_facilities\": 59.55, \"hospital_beds_per_thousand\": 0.53, \"life_expectancy\": 69.66}, {\"iso_code\": \"IND\", \"continent\": \"Asia\", \"location\": \"India\", \"date\": \"2020-06-08\", \"total_cases\": 256611.0, \"new_cases\": 9983.0, \"total_deaths\": 7135.0, \"new_deaths\": 206.0, \"total_cases_per_million\": 185.949, \"new_cases_per_million\": 7.234, \"total_deaths_per_million\": 5.17, \"new_deaths_per_million\": 0.149, \"total_tests\": 4774434.0, \"new_tests\": 108048.0, \"total_tests_per_thousand\": 3.46, \"new_tests_per_thousand\": 0.078, \"new_tests_smoothed\": 133890.0, \"new_tests_smoothed_per_thousand\": 0.09699999999999999, \"tests_units\": \"samples tested\", \"stringency_index\": 75.46, \"population\": 1380004385.0, \"population_density\": 450.41900000000004, \"median_age\": 28.2, \"aged_65_older\": 5.989, \"aged_70_older\": 3.4139999999999997, \"gdp_per_capita\": 6426.674, \"extreme_poverty\": 21.2, \"cardiovasc_death_rate\": 282.28, \"diabetes_prevalence\": 10.39, \"female_smokers\": 1.9, \"male_smokers\": 20.6, \"handwashing_facilities\": 59.55, \"hospital_beds_per_thousand\": 0.53, \"life_expectancy\": 69.66}, {\"iso_code\": \"IND\", \"continent\": \"Asia\", \"location\": \"India\", \"date\": \"2020-06-09\", \"total_cases\": 266598.0, \"new_cases\": 9987.0, \"total_deaths\": 7466.0, \"new_deaths\": 331.0, \"total_cases_per_million\": 193.18599999999998, \"new_cases_per_million\": 7.237, \"total_deaths_per_million\": 5.41, \"new_deaths_per_million\": 0.24, \"total_tests\": 4916116.0, \"new_tests\": 141682.0, \"total_tests_per_thousand\": 3.562, \"new_tests_per_thousand\": 0.10300000000000001, \"new_tests_smoothed\": 135720.0, \"new_tests_smoothed_per_thousand\": 0.098, \"tests_units\": \"samples tested\", \"stringency_index\": 76.85, \"population\": 1380004385.0, \"population_density\": 450.41900000000004, \"median_age\": 28.2, \"aged_65_older\": 5.989, \"aged_70_older\": 3.4139999999999997, \"gdp_per_capita\": 6426.674, \"extreme_poverty\": 21.2, \"cardiovasc_death_rate\": 282.28, \"diabetes_prevalence\": 10.39, \"female_smokers\": 1.9, \"male_smokers\": 20.6, \"handwashing_facilities\": 59.55, \"hospital_beds_per_thousand\": 0.53, \"life_expectancy\": 69.66}, {\"iso_code\": \"IND\", \"continent\": \"Asia\", \"location\": \"India\", \"date\": \"2020-06-10\", \"total_cases\": 276583.0, \"new_cases\": 9985.0, \"total_deaths\": 7745.0, \"new_deaths\": 279.0, \"total_cases_per_million\": 200.422, \"new_cases_per_million\": 7.235, \"total_deaths_per_million\": 5.612, \"new_deaths_per_million\": 0.20199999999999999, \"total_tests\": 5061332.0, \"new_tests\": 145216.0, \"total_tests_per_thousand\": 3.668, \"new_tests_per_thousand\": 0.105, \"new_tests_smoothed\": 136871.0, \"new_tests_smoothed_per_thousand\": 0.099, \"tests_units\": \"samples tested\", \"stringency_index\": 76.85, \"population\": 1380004385.0, \"population_density\": 450.41900000000004, \"median_age\": 28.2, \"aged_65_older\": 5.989, \"aged_70_older\": 3.4139999999999997, \"gdp_per_capita\": 6426.674, \"extreme_poverty\": 21.2, \"cardiovasc_death_rate\": 282.28, \"diabetes_prevalence\": 10.39, \"female_smokers\": 1.9, \"male_smokers\": 20.6, \"handwashing_facilities\": 59.55, \"hospital_beds_per_thousand\": 0.53, \"life_expectancy\": 69.66}, {\"iso_code\": \"IND\", \"continent\": \"Asia\", \"location\": \"India\", \"date\": \"2020-06-11\", \"total_cases\": 286579.0, \"new_cases\": 9996.0, \"total_deaths\": 8102.0, \"new_deaths\": 357.0, \"total_cases_per_million\": 207.665, \"new_cases_per_million\": 7.242999999999999, \"total_deaths_per_million\": 5.871, \"new_deaths_per_million\": 0.259, \"total_tests\": 5213140.0, \"new_tests\": 151808.0, \"total_tests_per_thousand\": 3.778, \"new_tests_per_thousand\": 0.11, \"new_tests_smoothed\": 138632.0, \"new_tests_smoothed_per_thousand\": 0.1, \"tests_units\": \"samples tested\", \"stringency_index\": 76.85, \"population\": 1380004385.0, \"population_density\": 450.41900000000004, \"median_age\": 28.2, \"aged_65_older\": 5.989, \"aged_70_older\": 3.4139999999999997, \"gdp_per_capita\": 6426.674, \"extreme_poverty\": 21.2, \"cardiovasc_death_rate\": 282.28, \"diabetes_prevalence\": 10.39, \"female_smokers\": 1.9, \"male_smokers\": 20.6, \"handwashing_facilities\": 59.55, \"hospital_beds_per_thousand\": 0.53, \"life_expectancy\": 69.66}, {\"iso_code\": \"IND\", \"continent\": \"Asia\", \"location\": \"India\", \"date\": \"2020-06-12\", \"total_cases\": 297535.0, \"new_cases\": 10956.0, \"total_deaths\": 8498.0, \"new_deaths\": 396.0, \"total_cases_per_million\": 215.604, \"new_cases_per_million\": 7.939, \"total_deaths_per_million\": 6.1579999999999995, \"new_deaths_per_million\": 0.287, \"total_tests\": 5363445.0, \"new_tests\": 150305.0, \"total_tests_per_thousand\": 3.887, \"new_tests_per_thousand\": 0.109, \"new_tests_smoothed\": 139581.0, \"new_tests_smoothed_per_thousand\": 0.10099999999999999, \"tests_units\": \"samples tested\", \"stringency_index\": 76.85, \"population\": 1380004385.0, \"population_density\": 450.41900000000004, \"median_age\": 28.2, \"aged_65_older\": 5.989, \"aged_70_older\": 3.4139999999999997, \"gdp_per_capita\": 6426.674, \"extreme_poverty\": 21.2, \"cardiovasc_death_rate\": 282.28, \"diabetes_prevalence\": 10.39, \"female_smokers\": 1.9, \"male_smokers\": 20.6, \"handwashing_facilities\": 59.55, \"hospital_beds_per_thousand\": 0.53, \"life_expectancy\": 69.66}, {\"iso_code\": \"IND\", \"continent\": \"Asia\", \"location\": \"India\", \"date\": \"2020-06-13\", \"total_cases\": 308993.0, \"new_cases\": 11458.0, \"total_deaths\": 8884.0, \"new_deaths\": 386.0, \"total_cases_per_million\": 223.907, \"new_cases_per_million\": 8.302999999999999, \"total_deaths_per_million\": 6.438, \"new_deaths_per_million\": 0.28, \"total_tests\": 5507182.0, \"new_tests\": 143737.0, \"total_tests_per_thousand\": 3.991, \"new_tests_per_thousand\": 0.10400000000000001, \"new_tests_smoothed\": 140409.0, \"new_tests_smoothed_per_thousand\": 0.102, \"tests_units\": \"samples tested\", \"stringency_index\": 76.85, \"population\": 1380004385.0, \"population_density\": 450.41900000000004, \"median_age\": 28.2, \"aged_65_older\": 5.989, \"aged_70_older\": 3.4139999999999997, \"gdp_per_capita\": 6426.674, \"extreme_poverty\": 21.2, \"cardiovasc_death_rate\": 282.28, \"diabetes_prevalence\": 10.39, \"female_smokers\": 1.9, \"male_smokers\": 20.6, \"handwashing_facilities\": 59.55, \"hospital_beds_per_thousand\": 0.53, \"life_expectancy\": 69.66}, {\"iso_code\": \"IND\", \"continent\": \"Asia\", \"location\": \"India\", \"date\": \"2020-06-14\", \"total_cases\": 320922.0, \"new_cases\": 11929.0, \"total_deaths\": 9195.0, \"new_deaths\": 311.0, \"total_cases_per_million\": 232.551, \"new_cases_per_million\": 8.644, \"total_deaths_per_million\": 6.662999999999999, \"new_deaths_per_million\": 0.225, \"total_tests\": 5658614.0, \"new_tests\": 151432.0, \"total_tests_per_thousand\": 4.1, \"new_tests_per_thousand\": 0.11, \"new_tests_smoothed\": 141747.0, \"new_tests_smoothed_per_thousand\": 0.10300000000000001, \"tests_units\": \"samples tested\", \"stringency_index\": 76.85, \"population\": 1380004385.0, \"population_density\": 450.41900000000004, \"median_age\": 28.2, \"aged_65_older\": 5.989, \"aged_70_older\": 3.4139999999999997, \"gdp_per_capita\": 6426.674, \"extreme_poverty\": 21.2, \"cardiovasc_death_rate\": 282.28, \"diabetes_prevalence\": 10.39, \"female_smokers\": 1.9, \"male_smokers\": 20.6, \"handwashing_facilities\": 59.55, \"hospital_beds_per_thousand\": 0.53, \"life_expectancy\": 69.66}, {\"iso_code\": \"IND\", \"continent\": \"Asia\", \"location\": \"India\", \"date\": \"2020-06-15\", \"total_cases\": 332424.0, \"new_cases\": 11502.0, \"total_deaths\": 9520.0, \"new_deaths\": 325.0, \"total_cases_per_million\": 240.886, \"new_cases_per_million\": 8.335, \"total_deaths_per_million\": 6.899, \"new_deaths_per_million\": 0.23600000000000002, \"total_tests\": 5774133.0, \"new_tests\": 115519.0, \"total_tests_per_thousand\": 4.184, \"new_tests_per_thousand\": 0.084, \"new_tests_smoothed\": 142814.0, \"new_tests_smoothed_per_thousand\": 0.10300000000000001, \"tests_units\": \"samples tested\", \"stringency_index\": 76.85, \"population\": 1380004385.0, \"population_density\": 450.41900000000004, \"median_age\": 28.2, \"aged_65_older\": 5.989, \"aged_70_older\": 3.4139999999999997, \"gdp_per_capita\": 6426.674, \"extreme_poverty\": 21.2, \"cardiovasc_death_rate\": 282.28, \"diabetes_prevalence\": 10.39, \"female_smokers\": 1.9, \"male_smokers\": 20.6, \"handwashing_facilities\": 59.55, \"hospital_beds_per_thousand\": 0.53, \"life_expectancy\": 69.66}, {\"iso_code\": \"IND\", \"continent\": \"Asia\", \"location\": \"India\", \"date\": \"2020-06-16\", \"total_cases\": 343091.0, \"new_cases\": 10667.0, \"total_deaths\": 9900.0, \"new_deaths\": 380.0, \"total_cases_per_million\": 248.61599999999999, \"new_cases_per_million\": 7.73, \"total_deaths_per_million\": 7.1739999999999995, \"new_deaths_per_million\": 0.275, \"total_tests\": 5921069.0, \"new_tests\": 146936.0, \"total_tests_per_thousand\": 4.291, \"new_tests_per_thousand\": 0.106, \"new_tests_smoothed\": 143565.0, \"new_tests_smoothed_per_thousand\": 0.10400000000000001, \"tests_units\": \"samples tested\", \"stringency_index\": 76.85, \"population\": 1380004385.0, \"population_density\": 450.41900000000004, \"median_age\": 28.2, \"aged_65_older\": 5.989, \"aged_70_older\": 3.4139999999999997, \"gdp_per_capita\": 6426.674, \"extreme_poverty\": 21.2, \"cardiovasc_death_rate\": 282.28, \"diabetes_prevalence\": 10.39, \"female_smokers\": 1.9, \"male_smokers\": 20.6, \"handwashing_facilities\": 59.55, \"hospital_beds_per_thousand\": 0.53, \"life_expectancy\": 69.66}, {\"iso_code\": \"IND\", \"continent\": \"Asia\", \"location\": \"India\", \"date\": \"2020-06-17\", \"total_cases\": 354065.0, \"new_cases\": 10974.0, \"total_deaths\": 11903.0, \"new_deaths\": 2003.0, \"total_cases_per_million\": 256.568, \"new_cases_per_million\": 7.952000000000001, \"total_deaths_per_million\": 8.625, \"new_deaths_per_million\": 1.4509999999999998, \"total_tests\": 6084256.0, \"new_tests\": 163187.0, \"total_tests_per_thousand\": 4.409, \"new_tests_per_thousand\": 0.11800000000000001, \"new_tests_smoothed\": 146132.0, \"new_tests_smoothed_per_thousand\": 0.106, \"tests_units\": \"samples tested\", \"stringency_index\": 76.85, \"population\": 1380004385.0, \"population_density\": 450.41900000000004, \"median_age\": 28.2, \"aged_65_older\": 5.989, \"aged_70_older\": 3.4139999999999997, \"gdp_per_capita\": 6426.674, \"extreme_poverty\": 21.2, \"cardiovasc_death_rate\": 282.28, \"diabetes_prevalence\": 10.39, \"female_smokers\": 1.9, \"male_smokers\": 20.6, \"handwashing_facilities\": 59.55, \"hospital_beds_per_thousand\": 0.53, \"life_expectancy\": 69.66}, {\"iso_code\": \"IND\", \"continent\": \"Asia\", \"location\": \"India\", \"date\": \"2020-06-18\", \"total_cases\": 366946.0, \"new_cases\": 12881.0, \"total_deaths\": 12237.0, \"new_deaths\": 334.0, \"total_cases_per_million\": 265.902, \"new_cases_per_million\": 9.334, \"total_deaths_per_million\": 8.867, \"new_deaths_per_million\": 0.242, \"total_tests\": 6249668.0, \"new_tests\": 165412.0, \"total_tests_per_thousand\": 4.529, \"new_tests_per_thousand\": 0.12, \"new_tests_smoothed\": 148075.0, \"new_tests_smoothed_per_thousand\": 0.107, \"tests_units\": \"samples tested\", \"stringency_index\": 76.39, \"population\": 1380004385.0, \"population_density\": 450.41900000000004, \"median_age\": 28.2, \"aged_65_older\": 5.989, \"aged_70_older\": 3.4139999999999997, \"gdp_per_capita\": 6426.674, \"extreme_poverty\": 21.2, \"cardiovasc_death_rate\": 282.28, \"diabetes_prevalence\": 10.39, \"female_smokers\": 1.9, \"male_smokers\": 20.6, \"handwashing_facilities\": 59.55, \"hospital_beds_per_thousand\": 0.53, \"life_expectancy\": 69.66}, {\"iso_code\": \"IND\", \"continent\": \"Asia\", \"location\": \"India\", \"date\": \"2020-06-19\", \"total_cases\": 380532.0, \"new_cases\": 13586.0, \"total_deaths\": 12573.0, \"new_deaths\": 336.0, \"total_cases_per_million\": 275.747, \"new_cases_per_million\": 9.845, \"total_deaths_per_million\": 9.111, \"new_deaths_per_million\": 0.243, \"total_tests\": 6426627.0, \"new_tests\": 176959.0, \"total_tests_per_thousand\": 4.657, \"new_tests_per_thousand\": 0.128, \"new_tests_smoothed\": 151883.0, \"new_tests_smoothed_per_thousand\": 0.11, \"tests_units\": \"samples tested\", \"stringency_index\": 76.39, \"population\": 1380004385.0, \"population_density\": 450.41900000000004, \"median_age\": 28.2, \"aged_65_older\": 5.989, \"aged_70_older\": 3.4139999999999997, \"gdp_per_capita\": 6426.674, \"extreme_poverty\": 21.2, \"cardiovasc_death_rate\": 282.28, \"diabetes_prevalence\": 10.39, \"female_smokers\": 1.9, \"male_smokers\": 20.6, \"handwashing_facilities\": 59.55, \"hospital_beds_per_thousand\": 0.53, \"life_expectancy\": 69.66}, {\"iso_code\": \"IND\", \"continent\": \"Asia\", \"location\": \"India\", \"date\": \"2020-06-20\", \"total_cases\": 395048.0, \"new_cases\": 14516.0, \"total_deaths\": 12948.0, \"new_deaths\": 375.0, \"total_cases_per_million\": 286.26599999999996, \"new_cases_per_million\": 10.519, \"total_deaths_per_million\": 9.383, \"new_deaths_per_million\": 0.272, \"total_tests\": 6616496.0, \"new_tests\": 189869.0, \"total_tests_per_thousand\": 4.795, \"new_tests_per_thousand\": 0.138, \"new_tests_smoothed\": 158473.0, \"new_tests_smoothed_per_thousand\": 0.115, \"tests_units\": \"samples tested\", \"stringency_index\": 76.39, \"population\": 1380004385.0, \"population_density\": 450.41900000000004, \"median_age\": 28.2, \"aged_65_older\": 5.989, \"aged_70_older\": 3.4139999999999997, \"gdp_per_capita\": 6426.674, \"extreme_poverty\": 21.2, \"cardiovasc_death_rate\": 282.28, \"diabetes_prevalence\": 10.39, \"female_smokers\": 1.9, \"male_smokers\": 20.6, \"handwashing_facilities\": 59.55, \"hospital_beds_per_thousand\": 0.53, \"life_expectancy\": 69.66}, {\"iso_code\": \"IND\", \"continent\": \"Asia\", \"location\": \"India\", \"date\": \"2020-06-21\", \"total_cases\": 410461.0, \"new_cases\": 15413.0, \"total_deaths\": 13254.0, \"new_deaths\": 306.0, \"total_cases_per_million\": 297.435, \"new_cases_per_million\": 11.169, \"total_deaths_per_million\": 9.604, \"new_deaths_per_million\": 0.222, \"total_tests\": 6807226.0, \"new_tests\": 190730.0, \"total_tests_per_thousand\": 4.933, \"new_tests_per_thousand\": 0.138, \"new_tests_smoothed\": 164087.0, \"new_tests_smoothed_per_thousand\": 0.11900000000000001, \"tests_units\": \"samples tested\", \"stringency_index\": 76.39, \"population\": 1380004385.0, \"population_density\": 450.41900000000004, \"median_age\": 28.2, \"aged_65_older\": 5.989, \"aged_70_older\": 3.4139999999999997, \"gdp_per_capita\": 6426.674, \"extreme_poverty\": 21.2, \"cardiovasc_death_rate\": 282.28, \"diabetes_prevalence\": 10.39, \"female_smokers\": 1.9, \"male_smokers\": 20.6, \"handwashing_facilities\": 59.55, \"hospital_beds_per_thousand\": 0.53, \"life_expectancy\": 69.66}, {\"iso_code\": \"IND\", \"continent\": \"Asia\", \"location\": \"India\", \"date\": \"2020-06-22\", \"total_cases\": 425282.0, \"new_cases\": 14821.0, \"total_deaths\": 13699.0, \"new_deaths\": 445.0, \"total_cases_per_million\": 308.17400000000004, \"new_cases_per_million\": 10.74, \"total_deaths_per_million\": 9.927, \"new_deaths_per_million\": 0.322, \"total_tests\": 6950493.0, \"new_tests\": 143267.0, \"total_tests_per_thousand\": 5.037, \"new_tests_per_thousand\": 0.10400000000000001, \"new_tests_smoothed\": 168051.0, \"new_tests_smoothed_per_thousand\": 0.122, \"tests_units\": \"samples tested\", \"stringency_index\": 76.39, \"population\": 1380004385.0, \"population_density\": 450.41900000000004, \"median_age\": 28.2, \"aged_65_older\": 5.989, \"aged_70_older\": 3.4139999999999997, \"gdp_per_capita\": 6426.674, \"extreme_poverty\": 21.2, \"cardiovasc_death_rate\": 282.28, \"diabetes_prevalence\": 10.39, \"female_smokers\": 1.9, \"male_smokers\": 20.6, \"handwashing_facilities\": 59.55, \"hospital_beds_per_thousand\": 0.53, \"life_expectancy\": 69.66}, {\"iso_code\": \"IND\", \"continent\": \"Asia\", \"location\": \"India\", \"date\": \"2020-06-23\", \"total_cases\": 440215.0, \"new_cases\": 14933.0, \"total_deaths\": 14011.0, \"new_deaths\": 312.0, \"total_cases_per_million\": 318.995, \"new_cases_per_million\": 10.821, \"total_deaths_per_million\": 10.152999999999999, \"new_deaths_per_million\": 0.226, \"total_tests\": 7137716.0, \"new_tests\": 187223.0, \"total_tests_per_thousand\": 5.172000000000001, \"new_tests_per_thousand\": 0.136, \"new_tests_smoothed\": 173807.0, \"new_tests_smoothed_per_thousand\": 0.126, \"tests_units\": \"samples tested\", \"stringency_index\": 76.39, \"population\": 1380004385.0, \"population_density\": 450.41900000000004, \"median_age\": 28.2, \"aged_65_older\": 5.989, \"aged_70_older\": 3.4139999999999997, \"gdp_per_capita\": 6426.674, \"extreme_poverty\": 21.2, \"cardiovasc_death_rate\": 282.28, \"diabetes_prevalence\": 10.39, \"female_smokers\": 1.9, \"male_smokers\": 20.6, \"handwashing_facilities\": 59.55, \"hospital_beds_per_thousand\": 0.53, \"life_expectancy\": 69.66}, {\"iso_code\": \"IND\", \"continent\": \"Asia\", \"location\": \"India\", \"date\": \"2020-06-24\", \"total_cases\": 456183.0, \"new_cases\": 15968.0, \"total_deaths\": 14476.0, \"new_deaths\": 465.0, \"total_cases_per_million\": 330.566, \"new_cases_per_million\": 11.571, \"total_deaths_per_million\": 10.49, \"new_deaths_per_million\": 0.337, \"total_tests\": 7352911.0, \"new_tests\": 215195.0, \"total_tests_per_thousand\": 5.327999999999999, \"new_tests_per_thousand\": 0.156, \"new_tests_smoothed\": 181236.0, \"new_tests_smoothed_per_thousand\": 0.131, \"tests_units\": \"samples tested\", \"stringency_index\": 76.39, \"population\": 1380004385.0, \"population_density\": 450.41900000000004, \"median_age\": 28.2, \"aged_65_older\": 5.989, \"aged_70_older\": 3.4139999999999997, \"gdp_per_capita\": 6426.674, \"extreme_poverty\": 21.2, \"cardiovasc_death_rate\": 282.28, \"diabetes_prevalence\": 10.39, \"female_smokers\": 1.9, \"male_smokers\": 20.6, \"handwashing_facilities\": 59.55, \"hospital_beds_per_thousand\": 0.53, \"life_expectancy\": 69.66}, {\"iso_code\": \"IND\", \"continent\": \"Asia\", \"location\": \"India\", \"date\": \"2020-06-25\", \"total_cases\": 473105.0, \"new_cases\": 16922.0, \"total_deaths\": 14894.0, \"new_deaths\": 418.0, \"total_cases_per_million\": 342.829, \"new_cases_per_million\": 12.262, \"total_deaths_per_million\": 10.793, \"new_deaths_per_million\": 0.303, \"total_tests\": 7560782.0, \"new_tests\": 207871.0, \"total_tests_per_thousand\": 5.479, \"new_tests_per_thousand\": 0.151, \"new_tests_smoothed\": 187302.0, \"new_tests_smoothed_per_thousand\": 0.136, \"tests_units\": \"samples tested\", \"stringency_index\": 76.39, \"population\": 1380004385.0, \"population_density\": 450.41900000000004, \"median_age\": 28.2, \"aged_65_older\": 5.989, \"aged_70_older\": 3.4139999999999997, \"gdp_per_capita\": 6426.674, \"extreme_poverty\": 21.2, \"cardiovasc_death_rate\": 282.28, \"diabetes_prevalence\": 10.39, \"female_smokers\": 1.9, \"male_smokers\": 20.6, \"handwashing_facilities\": 59.55, \"hospital_beds_per_thousand\": 0.53, \"life_expectancy\": 69.66}, {\"iso_code\": \"IND\", \"continent\": \"Asia\", \"location\": \"India\", \"date\": \"2020-06-26\", \"total_cases\": 490401.0, \"new_cases\": 17296.0, \"total_deaths\": 15301.0, \"new_deaths\": 407.0, \"total_cases_per_million\": 355.36199999999997, \"new_cases_per_million\": 12.533, \"total_deaths_per_million\": 11.088, \"new_deaths_per_million\": 0.295, \"total_tests\": 7776228.0, \"new_tests\": 215446.0, \"total_tests_per_thousand\": 5.635, \"new_tests_per_thousand\": 0.156, \"new_tests_smoothed\": 192800.0, \"new_tests_smoothed_per_thousand\": 0.14, \"tests_units\": \"samples tested\", \"stringency_index\": 76.39, \"population\": 1380004385.0, \"population_density\": 450.41900000000004, \"median_age\": 28.2, \"aged_65_older\": 5.989, \"aged_70_older\": 3.4139999999999997, \"gdp_per_capita\": 6426.674, \"extreme_poverty\": 21.2, \"cardiovasc_death_rate\": 282.28, \"diabetes_prevalence\": 10.39, \"female_smokers\": 1.9, \"male_smokers\": 20.6, \"handwashing_facilities\": 59.55, \"hospital_beds_per_thousand\": 0.53, \"life_expectancy\": 69.66}, {\"iso_code\": \"IND\", \"continent\": \"Asia\", \"location\": \"India\", \"date\": \"2020-06-27\", \"total_cases\": 508953.0, \"new_cases\": 18552.0, \"total_deaths\": 15685.0, \"new_deaths\": 384.0, \"total_cases_per_million\": 368.805, \"new_cases_per_million\": 13.443, \"total_deaths_per_million\": 11.366, \"new_deaths_per_million\": 0.278, \"total_tests\": 7996707.0, \"new_tests\": 220479.0, \"total_tests_per_thousand\": 5.795, \"new_tests_per_thousand\": 0.16, \"new_tests_smoothed\": 197173.0, \"new_tests_smoothed_per_thousand\": 0.14300000000000002, \"tests_units\": \"samples tested\", \"stringency_index\": 76.39, \"population\": 1380004385.0, \"population_density\": 450.41900000000004, \"median_age\": 28.2, \"aged_65_older\": 5.989, \"aged_70_older\": 3.4139999999999997, \"gdp_per_capita\": 6426.674, \"extreme_poverty\": 21.2, \"cardiovasc_death_rate\": 282.28, \"diabetes_prevalence\": 10.39, \"female_smokers\": 1.9, \"male_smokers\": 20.6, \"handwashing_facilities\": 59.55, \"hospital_beds_per_thousand\": 0.53, \"life_expectancy\": 69.66}, {\"iso_code\": \"IND\", \"continent\": \"Asia\", \"location\": \"India\", \"date\": \"2020-06-28\", \"total_cases\": 528859.0, \"new_cases\": 19906.0, \"total_deaths\": 16095.0, \"new_deaths\": 410.0, \"total_cases_per_million\": 383.23, \"new_cases_per_million\": 14.425, \"total_deaths_per_million\": 11.663, \"new_deaths_per_million\": 0.297, \"total_tests\": 8227802.0, \"new_tests\": 231095.0, \"total_tests_per_thousand\": 5.962000000000001, \"new_tests_per_thousand\": 0.16699999999999998, \"new_tests_smoothed\": 202939.0, \"new_tests_smoothed_per_thousand\": 0.147, \"tests_units\": \"samples tested\", \"stringency_index\": 76.39, \"population\": 1380004385.0, \"population_density\": 450.41900000000004, \"median_age\": 28.2, \"aged_65_older\": 5.989, \"aged_70_older\": 3.4139999999999997, \"gdp_per_capita\": 6426.674, \"extreme_poverty\": 21.2, \"cardiovasc_death_rate\": 282.28, \"diabetes_prevalence\": 10.39, \"female_smokers\": 1.9, \"male_smokers\": 20.6, \"handwashing_facilities\": 59.55, \"hospital_beds_per_thousand\": 0.53, \"life_expectancy\": 69.66}, {\"iso_code\": \"IND\", \"continent\": \"Asia\", \"location\": \"India\", \"date\": \"2020-06-29\", \"total_cases\": 548318.0, \"new_cases\": 19459.0, \"total_deaths\": 16475.0, \"new_deaths\": 380.0, \"total_cases_per_million\": 397.33099999999996, \"new_cases_per_million\": 14.100999999999999, \"total_deaths_per_million\": 11.937999999999999, \"new_deaths_per_million\": 0.275, \"total_tests\": 8398362.0, \"new_tests\": 170560.0, \"total_tests_per_thousand\": 6.086, \"new_tests_per_thousand\": 0.124, \"new_tests_smoothed\": 206838.0, \"new_tests_smoothed_per_thousand\": 0.15, \"tests_units\": \"samples tested\", \"stringency_index\": 76.39, \"population\": 1380004385.0, \"population_density\": 450.41900000000004, \"median_age\": 28.2, \"aged_65_older\": 5.989, \"aged_70_older\": 3.4139999999999997, \"gdp_per_capita\": 6426.674, \"extreme_poverty\": 21.2, \"cardiovasc_death_rate\": 282.28, \"diabetes_prevalence\": 10.39, \"female_smokers\": 1.9, \"male_smokers\": 20.6, \"handwashing_facilities\": 59.55, \"hospital_beds_per_thousand\": 0.53, \"life_expectancy\": 69.66}, {\"iso_code\": \"IND\", \"continent\": \"Asia\", \"location\": \"India\", \"date\": \"2020-06-30\", \"total_cases\": 566840.0, \"new_cases\": 18522.0, \"total_deaths\": 16893.0, \"new_deaths\": 418.0, \"total_cases_per_million\": 410.75199999999995, \"new_cases_per_million\": 13.422, \"total_deaths_per_million\": 12.241, \"new_deaths_per_million\": 0.303, \"total_tests\": 8608654.0, \"new_tests\": 210292.0, \"total_tests_per_thousand\": 6.2379999999999995, \"new_tests_per_thousand\": 0.152, \"new_tests_smoothed\": 210134.0, \"new_tests_smoothed_per_thousand\": 0.152, \"tests_units\": \"samples tested\", \"stringency_index\": 76.39, \"population\": 1380004385.0, \"population_density\": 450.41900000000004, \"median_age\": 28.2, \"aged_65_older\": 5.989, \"aged_70_older\": 3.4139999999999997, \"gdp_per_capita\": 6426.674, \"extreme_poverty\": 21.2, \"cardiovasc_death_rate\": 282.28, \"diabetes_prevalence\": 10.39, \"female_smokers\": 1.9, \"male_smokers\": 20.6, \"handwashing_facilities\": 59.55, \"hospital_beds_per_thousand\": 0.53, \"life_expectancy\": 69.66}, {\"iso_code\": \"IND\", \"continent\": \"Asia\", \"location\": \"India\", \"date\": \"2020-07-01\", \"total_cases\": 585493.0, \"new_cases\": 18653.0, \"total_deaths\": 17400.0, \"new_deaths\": 507.0, \"total_cases_per_million\": 424.269, \"new_cases_per_million\": 13.517000000000001, \"total_deaths_per_million\": 12.609000000000002, \"new_deaths_per_million\": 0.36700000000000005, \"total_tests\": 8826585.0, \"new_tests\": 217931.0, \"total_tests_per_thousand\": 6.396, \"new_tests_per_thousand\": 0.158, \"new_tests_smoothed\": 210525.0, \"new_tests_smoothed_per_thousand\": 0.153, \"tests_units\": \"samples tested\", \"stringency_index\": 74.07, \"population\": 1380004385.0, \"population_density\": 450.41900000000004, \"median_age\": 28.2, \"aged_65_older\": 5.989, \"aged_70_older\": 3.4139999999999997, \"gdp_per_capita\": 6426.674, \"extreme_poverty\": 21.2, \"cardiovasc_death_rate\": 282.28, \"diabetes_prevalence\": 10.39, \"female_smokers\": 1.9, \"male_smokers\": 20.6, \"handwashing_facilities\": 59.55, \"hospital_beds_per_thousand\": 0.53, \"life_expectancy\": 69.66}, {\"iso_code\": \"IND\", \"continent\": \"Asia\", \"location\": \"India\", \"date\": \"2020-07-02\", \"total_cases\": 604641.0, \"new_cases\": 19148.0, \"total_deaths\": 17834.0, \"new_deaths\": 434.0, \"total_cases_per_million\": 438.144, \"new_cases_per_million\": 13.875, \"total_deaths_per_million\": 12.923, \"new_deaths_per_million\": 0.314, \"total_tests\": 9056173.0, \"new_tests\": 229588.0, \"total_tests_per_thousand\": 6.562, \"new_tests_per_thousand\": 0.166, \"new_tests_smoothed\": 213627.0, \"new_tests_smoothed_per_thousand\": 0.155, \"tests_units\": \"samples tested\", \"stringency_index\": 74.07, \"population\": 1380004385.0, \"population_density\": 450.41900000000004, \"median_age\": 28.2, \"aged_65_older\": 5.989, \"aged_70_older\": 3.4139999999999997, \"gdp_per_capita\": 6426.674, \"extreme_poverty\": 21.2, \"cardiovasc_death_rate\": 282.28, \"diabetes_prevalence\": 10.39, \"female_smokers\": 1.9, \"male_smokers\": 20.6, \"handwashing_facilities\": 59.55, \"hospital_beds_per_thousand\": 0.53, \"life_expectancy\": 69.66}, {\"iso_code\": \"IND\", \"continent\": \"Asia\", \"location\": \"India\", \"date\": \"2020-07-03\", \"total_cases\": 625544.0, \"new_cases\": 20903.0, \"total_deaths\": 18213.0, \"new_deaths\": 379.0, \"total_cases_per_million\": 453.291, \"new_cases_per_million\": 15.147, \"total_deaths_per_million\": 13.198, \"new_deaths_per_million\": 0.275, \"total_tests\": 9297749.0, \"new_tests\": 241576.0, \"total_tests_per_thousand\": 6.737, \"new_tests_per_thousand\": 0.175, \"new_tests_smoothed\": 217360.0, \"new_tests_smoothed_per_thousand\": 0.158, \"tests_units\": \"samples tested\", \"stringency_index\": 74.07, \"population\": 1380004385.0, \"population_density\": 450.41900000000004, \"median_age\": 28.2, \"aged_65_older\": 5.989, \"aged_70_older\": 3.4139999999999997, \"gdp_per_capita\": 6426.674, \"extreme_poverty\": 21.2, \"cardiovasc_death_rate\": 282.28, \"diabetes_prevalence\": 10.39, \"female_smokers\": 1.9, \"male_smokers\": 20.6, \"handwashing_facilities\": 59.55, \"hospital_beds_per_thousand\": 0.53, \"life_expectancy\": 69.66}, {\"iso_code\": \"IND\", \"continent\": \"Asia\", \"location\": \"India\", \"date\": \"2020-07-04\", \"total_cases\": 648315.0, \"new_cases\": 22771.0, \"total_deaths\": 18655.0, \"new_deaths\": 442.0, \"total_cases_per_million\": 469.792, \"new_cases_per_million\": 16.500999999999998, \"total_deaths_per_million\": 13.517999999999999, \"new_deaths_per_million\": 0.32, \"total_tests\": 9540132.0, \"new_tests\": 242383.0, \"total_tests_per_thousand\": 6.912999999999999, \"new_tests_per_thousand\": 0.17600000000000002, \"new_tests_smoothed\": 220489.0, \"new_tests_smoothed_per_thousand\": 0.16, \"tests_units\": \"samples tested\", \"stringency_index\": 74.07, \"population\": 1380004385.0, \"population_density\": 450.41900000000004, \"median_age\": 28.2, \"aged_65_older\": 5.989, \"aged_70_older\": 3.4139999999999997, \"gdp_per_capita\": 6426.674, \"extreme_poverty\": 21.2, \"cardiovasc_death_rate\": 282.28, \"diabetes_prevalence\": 10.39, \"female_smokers\": 1.9, \"male_smokers\": 20.6, \"handwashing_facilities\": 59.55, \"hospital_beds_per_thousand\": 0.53, \"life_expectancy\": 69.66}, {\"iso_code\": \"IND\", \"continent\": \"Asia\", \"location\": \"India\", \"date\": \"2020-07-05\", \"total_cases\": 673165.0, \"new_cases\": 24850.0, \"total_deaths\": 19268.0, \"new_deaths\": 613.0, \"total_cases_per_million\": 487.79900000000004, \"new_cases_per_million\": 18.007, \"total_deaths_per_million\": 13.962, \"new_deaths_per_million\": 0.444, \"total_tests\": 9789066.0, \"new_tests\": 248934.0, \"total_tests_per_thousand\": 7.093999999999999, \"new_tests_per_thousand\": 0.18, \"new_tests_smoothed\": 223038.0, \"new_tests_smoothed_per_thousand\": 0.162, \"tests_units\": \"samples tested\", \"stringency_index\": 74.07, \"population\": 1380004385.0, \"population_density\": 450.41900000000004, \"median_age\": 28.2, \"aged_65_older\": 5.989, \"aged_70_older\": 3.4139999999999997, \"gdp_per_capita\": 6426.674, \"extreme_poverty\": 21.2, \"cardiovasc_death_rate\": 282.28, \"diabetes_prevalence\": 10.39, \"female_smokers\": 1.9, \"male_smokers\": 20.6, \"handwashing_facilities\": 59.55, \"hospital_beds_per_thousand\": 0.53, \"life_expectancy\": 69.66}, {\"iso_code\": \"IND\", \"continent\": \"Asia\", \"location\": \"India\", \"date\": \"2020-07-06\", \"total_cases\": 697413.0, \"new_cases\": 24248.0, \"total_deaths\": 19693.0, \"new_deaths\": 425.0, \"total_cases_per_million\": 505.37, \"new_cases_per_million\": 17.570999999999998, \"total_deaths_per_million\": 14.27, \"new_deaths_per_million\": 0.308, \"total_tests\": 9969662.0, \"new_tests\": 180596.0, \"total_tests_per_thousand\": 7.224, \"new_tests_per_thousand\": 0.131, \"new_tests_smoothed\": 224471.0, \"new_tests_smoothed_per_thousand\": 0.163, \"tests_units\": \"samples tested\", \"stringency_index\": 74.07, \"population\": 1380004385.0, \"population_density\": 450.41900000000004, \"median_age\": 28.2, \"aged_65_older\": 5.989, \"aged_70_older\": 3.4139999999999997, \"gdp_per_capita\": 6426.674, \"extreme_poverty\": 21.2, \"cardiovasc_death_rate\": 282.28, \"diabetes_prevalence\": 10.39, \"female_smokers\": 1.9, \"male_smokers\": 20.6, \"handwashing_facilities\": 59.55, \"hospital_beds_per_thousand\": 0.53, \"life_expectancy\": 69.66}, {\"iso_code\": \"IND\", \"continent\": \"Asia\", \"location\": \"India\", \"date\": \"2020-07-07\", \"total_cases\": 719665.0, \"new_cases\": 22252.0, \"total_deaths\": 20160.0, \"new_deaths\": 467.0, \"total_cases_per_million\": 521.495, \"new_cases_per_million\": 16.125, \"total_deaths_per_million\": 14.609000000000002, \"new_deaths_per_million\": 0.33799999999999997, \"total_tests\": 10211092.0, \"new_tests\": 241430.0, \"total_tests_per_thousand\": 7.399, \"new_tests_per_thousand\": 0.175, \"new_tests_smoothed\": 228920.0, \"new_tests_smoothed_per_thousand\": 0.166, \"tests_units\": \"samples tested\", \"stringency_index\": 74.07, \"population\": 1380004385.0, \"population_density\": 450.41900000000004, \"median_age\": 28.2, \"aged_65_older\": 5.989, \"aged_70_older\": 3.4139999999999997, \"gdp_per_capita\": 6426.674, \"extreme_poverty\": 21.2, \"cardiovasc_death_rate\": 282.28, \"diabetes_prevalence\": 10.39, \"female_smokers\": 1.9, \"male_smokers\": 20.6, \"handwashing_facilities\": 59.55, \"hospital_beds_per_thousand\": 0.53, \"life_expectancy\": 69.66}, {\"iso_code\": \"IND\", \"continent\": \"Asia\", \"location\": \"India\", \"date\": \"2020-07-08\", \"total_cases\": 742417.0, \"new_cases\": 22752.0, \"total_deaths\": 20642.0, \"new_deaths\": 482.0, \"total_cases_per_million\": 537.982, \"new_cases_per_million\": 16.487000000000002, \"total_deaths_per_million\": 14.958, \"new_deaths_per_million\": 0.349, \"total_tests\": 10473771.0, \"new_tests\": 262679.0, \"total_tests_per_thousand\": 7.59, \"new_tests_per_thousand\": 0.19, \"new_tests_smoothed\": 235312.0, \"new_tests_smoothed_per_thousand\": 0.171, \"tests_units\": \"samples tested\", \"stringency_index\": 74.07, \"population\": 1380004385.0, \"population_density\": 450.41900000000004, \"median_age\": 28.2, \"aged_65_older\": 5.989, \"aged_70_older\": 3.4139999999999997, \"gdp_per_capita\": 6426.674, \"extreme_poverty\": 21.2, \"cardiovasc_death_rate\": 282.28, \"diabetes_prevalence\": 10.39, \"female_smokers\": 1.9, \"male_smokers\": 20.6, \"handwashing_facilities\": 59.55, \"hospital_beds_per_thousand\": 0.53, \"life_expectancy\": 69.66}, {\"iso_code\": \"IND\", \"continent\": \"Asia\", \"location\": \"India\", \"date\": \"2020-07-09\", \"total_cases\": 767296.0, \"new_cases\": 24879.0, \"total_deaths\": 21129.0, \"new_deaths\": 487.0, \"total_cases_per_million\": 556.01, \"new_cases_per_million\": 18.028, \"total_deaths_per_million\": 15.311, \"new_deaths_per_million\": 0.353, \"total_tests\": 10740832.0, \"new_tests\": 267061.0, \"total_tests_per_thousand\": 7.7829999999999995, \"new_tests_per_thousand\": 0.19399999999999998, \"new_tests_smoothed\": 240666.0, \"new_tests_smoothed_per_thousand\": 0.174, \"tests_units\": \"samples tested\", \"stringency_index\": 74.07, \"population\": 1380004385.0, \"population_density\": 450.41900000000004, \"median_age\": 28.2, \"aged_65_older\": 5.989, \"aged_70_older\": 3.4139999999999997, \"gdp_per_capita\": 6426.674, \"extreme_poverty\": 21.2, \"cardiovasc_death_rate\": 282.28, \"diabetes_prevalence\": 10.39, \"female_smokers\": 1.9, \"male_smokers\": 20.6, \"handwashing_facilities\": 59.55, \"hospital_beds_per_thousand\": 0.53, \"life_expectancy\": 69.66}, {\"iso_code\": \"IND\", \"continent\": \"Asia\", \"location\": \"India\", \"date\": \"2020-07-10\", \"total_cases\": 793802.0, \"new_cases\": 26506.0, \"total_deaths\": 21604.0, \"new_deaths\": 475.0, \"total_cases_per_million\": 575.217, \"new_cases_per_million\": 19.207, \"total_deaths_per_million\": 15.655, \"new_deaths_per_million\": 0.344, \"total_tests\": 11024491.0, \"new_tests\": 283659.0, \"total_tests_per_thousand\": 7.989, \"new_tests_per_thousand\": 0.20600000000000002, \"new_tests_smoothed\": 246677.0, \"new_tests_smoothed_per_thousand\": 0.179, \"tests_units\": \"samples tested\", \"stringency_index\": 74.07, \"population\": 1380004385.0, \"population_density\": 450.41900000000004, \"median_age\": 28.2, \"aged_65_older\": 5.989, \"aged_70_older\": 3.4139999999999997, \"gdp_per_capita\": 6426.674, \"extreme_poverty\": 21.2, \"cardiovasc_death_rate\": 282.28, \"diabetes_prevalence\": 10.39, \"female_smokers\": 1.9, \"male_smokers\": 20.6, \"handwashing_facilities\": 59.55, \"hospital_beds_per_thousand\": 0.53, \"life_expectancy\": 69.66}, {\"iso_code\": \"IND\", \"continent\": \"Asia\", \"location\": \"India\", \"date\": \"2020-07-11\", \"total_cases\": 820916.0, \"new_cases\": 27114.0, \"total_deaths\": 22123.0, \"new_deaths\": 519.0, \"total_cases_per_million\": 594.865, \"new_cases_per_million\": 19.648, \"total_deaths_per_million\": 16.031, \"new_deaths_per_million\": 0.376, \"total_tests\": 11307002.0, \"new_tests\": 282511.0, \"total_tests_per_thousand\": 8.193, \"new_tests_per_thousand\": 0.205, \"new_tests_smoothed\": 252410.0, \"new_tests_smoothed_per_thousand\": 0.183, \"tests_units\": \"samples tested\", \"stringency_index\": null, \"population\": 1380004385.0, \"population_density\": 450.41900000000004, \"median_age\": 28.2, \"aged_65_older\": 5.989, \"aged_70_older\": 3.4139999999999997, \"gdp_per_capita\": 6426.674, \"extreme_poverty\": 21.2, \"cardiovasc_death_rate\": 282.28, \"diabetes_prevalence\": 10.39, \"female_smokers\": 1.9, \"male_smokers\": 20.6, \"handwashing_facilities\": 59.55, \"hospital_beds_per_thousand\": 0.53, \"life_expectancy\": 69.66}, {\"iso_code\": \"IND\", \"continent\": \"Asia\", \"location\": \"India\", \"date\": \"2020-07-12\", \"total_cases\": 849553.0, \"new_cases\": 28637.0, \"total_deaths\": 22674.0, \"new_deaths\": 551.0, \"total_cases_per_million\": 615.616, \"new_cases_per_million\": 20.750999999999998, \"total_deaths_per_million\": 16.43, \"new_deaths_per_million\": 0.39899999999999997, \"total_tests\": 11587153.0, \"new_tests\": 280151.0, \"total_tests_per_thousand\": 8.396, \"new_tests_per_thousand\": 0.203, \"new_tests_smoothed\": 256870.0, \"new_tests_smoothed_per_thousand\": 0.18600000000000003, \"tests_units\": \"samples tested\", \"stringency_index\": null, \"population\": 1380004385.0, \"population_density\": 450.41900000000004, \"median_age\": 28.2, \"aged_65_older\": 5.989, \"aged_70_older\": 3.4139999999999997, \"gdp_per_capita\": 6426.674, \"extreme_poverty\": 21.2, \"cardiovasc_death_rate\": 282.28, \"diabetes_prevalence\": 10.39, \"female_smokers\": 1.9, \"male_smokers\": 20.6, \"handwashing_facilities\": 59.55, \"hospital_beds_per_thousand\": 0.53, \"life_expectancy\": 69.66}, {\"iso_code\": \"IND\", \"continent\": \"Asia\", \"location\": \"India\", \"date\": \"2020-07-13\", \"total_cases\": 878254.0, \"new_cases\": 28701.0, \"total_deaths\": 23174.0, \"new_deaths\": 500.0, \"total_cases_per_million\": 636.414, \"new_cases_per_million\": 20.798000000000002, \"total_deaths_per_million\": 16.793, \"new_deaths_per_million\": 0.36200000000000004, \"total_tests\": 11806256.0, \"new_tests\": 219103.0, \"total_tests_per_thousand\": 8.555, \"new_tests_per_thousand\": 0.159, \"new_tests_smoothed\": 262371.0, \"new_tests_smoothed_per_thousand\": 0.19, \"tests_units\": \"samples tested\", \"stringency_index\": null, \"population\": 1380004385.0, \"population_density\": 450.41900000000004, \"median_age\": 28.2, \"aged_65_older\": 5.989, \"aged_70_older\": 3.4139999999999997, \"gdp_per_capita\": 6426.674, \"extreme_poverty\": 21.2, \"cardiovasc_death_rate\": 282.28, \"diabetes_prevalence\": 10.39, \"female_smokers\": 1.9, \"male_smokers\": 20.6, \"handwashing_facilities\": 59.55, \"hospital_beds_per_thousand\": 0.53, \"life_expectancy\": 69.66}, {\"iso_code\": \"IND\", \"continent\": \"Asia\", \"location\": \"India\", \"date\": \"2020-07-14\", \"total_cases\": 906752.0, \"new_cases\": 28498.0, \"total_deaths\": 23727.0, \"new_deaths\": 553.0, \"total_cases_per_million\": 657.065, \"new_cases_per_million\": 20.651, \"total_deaths_per_million\": 17.192999999999998, \"new_deaths_per_million\": 0.401, \"total_tests\": 12092503.0, \"new_tests\": 286247.0, \"total_tests_per_thousand\": 8.763, \"new_tests_per_thousand\": 0.207, \"new_tests_smoothed\": 268773.0, \"new_tests_smoothed_per_thousand\": 0.195, \"tests_units\": \"samples tested\", \"stringency_index\": null, \"population\": 1380004385.0, \"population_density\": 450.41900000000004, \"median_age\": 28.2, \"aged_65_older\": 5.989, \"aged_70_older\": 3.4139999999999997, \"gdp_per_capita\": 6426.674, \"extreme_poverty\": 21.2, \"cardiovasc_death_rate\": 282.28, \"diabetes_prevalence\": 10.39, \"female_smokers\": 1.9, \"male_smokers\": 20.6, \"handwashing_facilities\": 59.55, \"hospital_beds_per_thousand\": 0.53, \"life_expectancy\": 69.66}, {\"iso_code\": \"IND\", \"continent\": \"Asia\", \"location\": \"India\", \"date\": \"2020-07-15\", \"total_cases\": 936181.0, \"new_cases\": 29429.0, \"total_deaths\": 24309.0, \"new_deaths\": 582.0, \"total_cases_per_million\": 678.39, \"new_cases_per_million\": 21.325, \"total_deaths_per_million\": 17.615, \"new_deaths_per_million\": 0.42200000000000004, \"total_tests\": 12412664.0, \"new_tests\": 320161.0, \"total_tests_per_thousand\": 8.995, \"new_tests_per_thousand\": 0.23199999999999998, \"new_tests_smoothed\": 276985.0, \"new_tests_smoothed_per_thousand\": 0.201, \"tests_units\": \"samples tested\", \"stringency_index\": null, \"population\": 1380004385.0, \"population_density\": 450.41900000000004, \"median_age\": 28.2, \"aged_65_older\": 5.989, \"aged_70_older\": 3.4139999999999997, \"gdp_per_capita\": 6426.674, \"extreme_poverty\": 21.2, \"cardiovasc_death_rate\": 282.28, \"diabetes_prevalence\": 10.39, \"female_smokers\": 1.9, \"male_smokers\": 20.6, \"handwashing_facilities\": 59.55, \"hospital_beds_per_thousand\": 0.53, \"life_expectancy\": 69.66}, {\"iso_code\": \"IND\", \"continent\": \"Asia\", \"location\": \"India\", \"date\": \"2020-07-16\", \"total_cases\": 968876.0, \"new_cases\": 32695.0, \"total_deaths\": 24915.0, \"new_deaths\": 606.0, \"total_cases_per_million\": 702.082, \"new_cases_per_million\": 23.691999999999997, \"total_deaths_per_million\": 18.054000000000002, \"new_deaths_per_million\": 0.439, \"total_tests\": 12739490.0, \"new_tests\": 326826.0, \"total_tests_per_thousand\": 9.231, \"new_tests_per_thousand\": 0.237, \"new_tests_smoothed\": 285523.0, \"new_tests_smoothed_per_thousand\": 0.207, \"tests_units\": \"samples tested\", \"stringency_index\": null, \"population\": 1380004385.0, \"population_density\": 450.41900000000004, \"median_age\": 28.2, \"aged_65_older\": 5.989, \"aged_70_older\": 3.4139999999999997, \"gdp_per_capita\": 6426.674, \"extreme_poverty\": 21.2, \"cardiovasc_death_rate\": 282.28, \"diabetes_prevalence\": 10.39, \"female_smokers\": 1.9, \"male_smokers\": 20.6, \"handwashing_facilities\": 59.55, \"hospital_beds_per_thousand\": 0.53, \"life_expectancy\": 69.66}, {\"iso_code\": \"IND\", \"continent\": \"Asia\", \"location\": \"India\", \"date\": \"2020-07-17\", \"total_cases\": 1003832.0, \"new_cases\": 34956.0, \"total_deaths\": 25602.0, \"new_deaths\": 687.0, \"total_cases_per_million\": 727.4119999999999, \"new_cases_per_million\": 25.33, \"total_deaths_per_million\": 18.552, \"new_deaths_per_million\": 0.498, \"total_tests\": 13072718.0, \"new_tests\": 333228.0, \"total_tests_per_thousand\": 9.472999999999999, \"new_tests_per_thousand\": 0.24100000000000002, \"new_tests_smoothed\": 292604.0, \"new_tests_smoothed_per_thousand\": 0.212, \"tests_units\": \"samples tested\", \"stringency_index\": null, \"population\": 1380004385.0, \"population_density\": 450.41900000000004, \"median_age\": 28.2, \"aged_65_older\": 5.989, \"aged_70_older\": 3.4139999999999997, \"gdp_per_capita\": 6426.674, \"extreme_poverty\": 21.2, \"cardiovasc_death_rate\": 282.28, \"diabetes_prevalence\": 10.39, \"female_smokers\": 1.9, \"male_smokers\": 20.6, \"handwashing_facilities\": 59.55, \"hospital_beds_per_thousand\": 0.53, \"life_expectancy\": 69.66}, {\"iso_code\": \"IND\", \"continent\": \"Asia\", \"location\": \"India\", \"date\": \"2020-07-18\", \"total_cases\": 1038716.0, \"new_cases\": 34884.0, \"total_deaths\": 26273.0, \"new_deaths\": 671.0, \"total_cases_per_million\": 752.69, \"new_cases_per_million\": 25.278000000000002, \"total_deaths_per_million\": 19.038, \"new_deaths_per_million\": 0.486, \"total_tests\": 13433742.0, \"new_tests\": 361024.0, \"total_tests_per_thousand\": 9.735, \"new_tests_per_thousand\": 0.262, \"new_tests_smoothed\": 303820.0, \"new_tests_smoothed_per_thousand\": 0.22, \"tests_units\": \"samples tested\", \"stringency_index\": null, \"population\": 1380004385.0, \"population_density\": 450.41900000000004, \"median_age\": 28.2, \"aged_65_older\": 5.989, \"aged_70_older\": 3.4139999999999997, \"gdp_per_capita\": 6426.674, \"extreme_poverty\": 21.2, \"cardiovasc_death_rate\": 282.28, \"diabetes_prevalence\": 10.39, \"female_smokers\": 1.9, \"male_smokers\": 20.6, \"handwashing_facilities\": 59.55, \"hospital_beds_per_thousand\": 0.53, \"life_expectancy\": 69.66}, {\"iso_code\": \"IND\", \"continent\": \"Asia\", \"location\": \"India\", \"date\": \"2020-07-19\", \"total_cases\": 1077618.0, \"new_cases\": 38902.0, \"total_deaths\": 26816.0, \"new_deaths\": 543.0, \"total_cases_per_million\": 780.88, \"new_cases_per_million\": 28.19, \"total_deaths_per_million\": 19.432000000000002, \"new_deaths_per_million\": 0.39299999999999996, \"total_tests\": 13791869.0, \"new_tests\": 358127.0, \"total_tests_per_thousand\": 9.994, \"new_tests_per_thousand\": 0.26, \"new_tests_smoothed\": 314959.0, \"new_tests_smoothed_per_thousand\": 0.228, \"tests_units\": \"samples tested\", \"stringency_index\": null, \"population\": 1380004385.0, \"population_density\": 450.41900000000004, \"median_age\": 28.2, \"aged_65_older\": 5.989, \"aged_70_older\": 3.4139999999999997, \"gdp_per_capita\": 6426.674, \"extreme_poverty\": 21.2, \"cardiovasc_death_rate\": 282.28, \"diabetes_prevalence\": 10.39, \"female_smokers\": 1.9, \"male_smokers\": 20.6, \"handwashing_facilities\": 59.55, \"hospital_beds_per_thousand\": 0.53, \"life_expectancy\": 69.66}, {\"iso_code\": \"IND\", \"continent\": \"Asia\", \"location\": \"India\", \"date\": \"2020-07-20\", \"total_cases\": 1118043.0, \"new_cases\": 40425.0, \"total_deaths\": 27497.0, \"new_deaths\": 681.0, \"total_cases_per_million\": 810.174, \"new_cases_per_million\": 29.293000000000003, \"total_deaths_per_million\": 19.925, \"new_deaths_per_million\": 0.493, \"total_tests\": null, \"new_tests\": null, \"total_tests_per_thousand\": null, \"new_tests_per_thousand\": null, \"new_tests_smoothed\": null, \"new_tests_smoothed_per_thousand\": null, \"tests_units\": null, \"stringency_index\": null, \"population\": 1380004385.0, \"population_density\": 450.41900000000004, \"median_age\": 28.2, \"aged_65_older\": 5.989, \"aged_70_older\": 3.4139999999999997, \"gdp_per_capita\": 6426.674, \"extreme_poverty\": 21.2, \"cardiovasc_death_rate\": 282.28, \"diabetes_prevalence\": 10.39, \"female_smokers\": 1.9, \"male_smokers\": 20.6, \"handwashing_facilities\": 59.55, \"hospital_beds_per_thousand\": 0.53, \"life_expectancy\": 69.66}]}}, {\"mode\": \"vega-lite\"});\n",
              "</script>"
            ]
          },
          "metadata": {
            "tags": []
          },
          "execution_count": 102
        }
      ]
    },
    {
      "cell_type": "code",
      "metadata": {
        "id": "0rKLQkIapSvP",
        "colab_type": "code",
        "colab": {
          "base_uri": "https://localhost:8080/",
          "height": 634
        },
        "outputId": "ae796f7e-a73b-41bf-b4cf-4a199b5082d9"
      },
      "source": [
        "Ind = data[data['location']=='India']\n",
        "#Ind.iloc[201]['total_cases']\n",
        "#Ind.iloc[201]['total_deaths']\n",
        "import matplotlib.pyplot as plt \n",
        "slices = [Ind.iloc[201]['total_cases'], Ind.iloc[201]['total_deaths']] \n",
        "activities = ['Total Confirmed Cases', 'Total Deaths'] \n",
        "  \n",
        "cols=['#4C8BE2','#fe073a'] \n",
        "exp = [0.02,0.02] \n",
        "  \n",
        "plt.pie(slices,labels=activities, \n",
        "        textprops=dict(size=25,color='black'), \n",
        "        radius=2.5, \n",
        "        colors=cols, \n",
        "        autopct='%2.2f%%', \n",
        "        explode=exp, \n",
        "        shadow=True, \n",
        "        startangle=90) \n",
        "  \n",
        "plt.title('Transmission\\n\\n\\n\\n',color='#4fb4f2',size=40)"
      ],
      "execution_count": null,
      "outputs": [
        {
          "output_type": "execute_result",
          "data": {
            "text/plain": [
              "Text(0.5, 1.0, 'Transmission\\n\\n\\n\\n')"
            ]
          },
          "metadata": {
            "tags": []
          },
          "execution_count": 128
        },
        {
          "output_type": "display_data",
          "data": {
            "image/png": "[encoded data removed]",
            "text/plain": [
              "<Figure size 432x288 with 1 Axes>"
            ]
          },
          "metadata": {
            "tags": []
          }
        }
      ]
    },
    {
      "cell_type": "code",
      "metadata": {
        "id": "zBmjJcLR1IWo",
        "colab_type": "code",
        "colab": {
          "base_uri": "https://localhost:8080/",
          "height": 34
        },
        "outputId": "0fa951b1-e556-4e32-df61-7619a7e0c7f2"
      },
      "source": [
        "Ind = data[data['location']=='India']\n",
        "Ind.iloc[201]['total_cases']\n",
        "Ind.iloc[201]['total_deaths']"
      ],
      "execution_count": null,
      "outputs": [
        {
          "output_type": "execute_result",
          "data": {
            "text/plain": [
              "27497.0"
            ]
          },
          "metadata": {
            "tags": []
          },
          "execution_count": 112
        }
      ]
    },
    {
      "cell_type": "code",
      "metadata": {
        "id": "0USG68Eo3kxX",
        "colab_type": "code",
        "colab": {}
      },
      "source": [
        "import pandas as pd\n",
        "\n",
        "URL_DATASET = r'https://raw.githubusercontent.com/datasets/covid-19/master/data/countries-aggregated.csv'\n",
        "data = pd.read_csv(URL_DATASET)"
      ],
      "execution_count": null,
      "outputs": []
    },
    {
      "cell_type": "code",
      "metadata": {
        "id": "9V7j5XyD6qFE",
        "colab_type": "code",
        "colab": {
          "base_uri": "https://localhost:8080/",
          "height": 122
        },
        "outputId": "8f7e668e-f9d4-489c-db3a-5f39eb5d048c"
      },
      "source": [
        "#df1['Country']\n",
        "df = pd.DataFrame({'location':data['Country'],'date':data['Date']})\n",
        "df1 = df.set_index(['location','date']).count(level = 'location')\n",
        "x= df1.shape[0]\n",
        "total_cases = []\n",
        "print(df1)\n",
        "#for i in range(x):\n",
        "  #print(i)\n",
        "  #print(df1[:,0])\n",
        "  #Country = data[data['Country']==df1.iloc[i]]\n",
        "  #Country\n",
        "  #total_cases.append(Country.iloc[i]['total_cases'])\n",
        "  #Country.iloc[201]['total_deaths']\n",
        "#print(total_cases)"
      ],
      "execution_count": null,
      "outputs": [
        {
          "output_type": "stream",
          "text": [
            "Empty DataFrame\n",
            "Columns: []\n",
            "Index: [Afghanistan, Albania, Algeria, Andorra, Angola, Antigua and Barbuda, Argentina, Armenia, Australia, Austria, Azerbaijan, Bahamas, Bahrain, Bangladesh, Barbados, Belarus, Belgium, Belize, Benin, Bhutan, Bolivia, Bosnia and Herzegovina, Botswana, Brazil, Brunei, Bulgaria, Burkina Faso, Burma, Burundi, Cabo Verde, Cambodia, Cameroon, Canada, Central African Republic, Chad, Chile, China, Colombia, Comoros, Congo (Brazzaville), Congo (Kinshasa), Costa Rica, Cote d'Ivoire, Croatia, Cuba, Cyprus, Czechia, Denmark, Diamond Princess, Djibouti, Dominica, Dominican Republic, Ecuador, Egypt, El Salvador, Equatorial Guinea, Eritrea, Estonia, Eswatini, Ethiopia, Fiji, Finland, France, Gabon, Gambia, Georgia, Germany, Ghana, Greece, Grenada, Guatemala, Guinea, Guinea-Bissau, Guyana, Haiti, Holy See, Honduras, Hungary, Iceland, India, Indonesia, Iran, Iraq, Ireland, Israel, Italy, Jamaica, Japan, Jordan, Kazakhstan, Kenya, Korea, South, Kosovo, Kuwait, Kyrgyzstan, Laos, Latvia, Lebanon, Lesotho, Liberia, ...]\n",
            "\n",
            "[188 rows x 0 columns]\n"
          ],
          "name": "stdout"
        }
      ]
    },
    {
      "cell_type": "code",
      "metadata": {
        "id": "rhiC1By-6tIb",
        "colab_type": "code",
        "colab": {
          "base_uri": "https://localhost:8080/",
          "height": 119
        },
        "outputId": "cd63f9af-1ba5-4ab1-b944-cb33953e876f"
      },
      "source": [
        "Ind = df1[df1['Country']=='India']\n",
        "Ind.iloc[179]"
      ],
      "execution_count": null,
      "outputs": [
        {
          "output_type": "execute_result",
          "data": {
            "text/plain": [
              "Date         2020-07-19\n",
              "Country           India\n",
              "Confirmed       1118206\n",
              "Recovered        700087\n",
              "Deaths            27497\n",
              "Name: 33731, dtype: object"
            ]
          },
          "metadata": {
            "tags": []
          },
          "execution_count": 138
        }
      ]
    },
    {
      "cell_type": "code",
      "metadata": {
        "id": "9cvk4oNg7M4Z",
        "colab_type": "code",
        "colab": {
          "base_uri": "https://localhost:8080/",
          "height": 561
        },
        "outputId": "fc64bf2b-3a21-4a7e-b833-a3a39b696188"
      },
      "source": [
        "import matplotlib.pyplot as plt \n",
        "slices = [Ind.iloc[179]['Confirmed'],Ind.iloc[179]['Recovered'], Ind.iloc[179]['Deaths']] \n",
        "activities = ['Total Confirmed Cases', 'Total Recovered','Total Deaths'] \n",
        "  \n",
        "cols=['#4C8BE2','#00e061','#fe073a'] \n",
        "exp = [0.02,0.02,0.02] \n",
        "  \n",
        "plt.pie(slices,labels=activities, \n",
        "        textprops=dict(size=25,color='black'), \n",
        "        radius=2.5, \n",
        "        colors=cols, \n",
        "        autopct='%2.2f%%', \n",
        "        explode=exp, \n",
        "        shadow=True, \n",
        "        startangle=90) \n",
        "  \n",
        "plt.title('\\n\\n\\n\\n',color='#4fb4f2',size=40)"
      ],
      "execution_count": null,
      "outputs": [
        {
          "output_type": "execute_result",
          "data": {
            "text/plain": [
              "Text(0.5, 1.0, '\\n\\n\\n\\n')"
            ]
          },
          "metadata": {
            "tags": []
          },
          "execution_count": 143
        },
        {
          "output_type": "display_data",
          "data": {
            "image/png": "[encoded data removed]",
            "text/plain": [
              "<Figure size 432x288 with 1 Axes>"
            ]
          },
          "metadata": {
            "tags": []
          }
        }
      ]
    },
    {
      "cell_type": "code",
      "metadata": {
        "id": "7So3lebY7-3g",
        "colab_type": "code",
        "colab": {
          "base_uri": "https://localhost:8080/",
          "height": 494
        },
        "outputId": "dde03bec-4582-48bd-8f85-8144119e32f9"
      },
      "source": [
        "import numpy as np \n",
        "import pandas as pd \n",
        "import matplotlib.pyplot as plt \n",
        "  \n",
        "URL_DATASET = r'https://raw.githubusercontent.com/datasets/covid-19/master/data/countries-aggregated.csv'\n",
        "df1 = pd.read_csv(URL_DATASET) \n",
        "data = df1[df1['Country']=='India']\n",
        "  \n",
        "Y = data.iloc[160:,2].values  #confirmed\n",
        "R = data.iloc[160:,3].values  #recoverd\n",
        "D = data.iloc[160:,4].values  #deaths\n",
        "X = data.iloc[160:,0]  \n",
        "  \n",
        "plt.figure(figsize=(25,8)) \n",
        "  \n",
        "ax = plt.axes() \n",
        "ax.grid(linewidth=0.4, color='#8f8f8f')  \n",
        "  \n",
        "ax.set_facecolor(\"black\")  \n",
        "ax.set_xlabel('\\nDate',size=25,color='#4bb4f2') \n",
        "ax.set_ylabel('Number of Confirmed Cases\\n', \n",
        "              size=25,color='#4bb4f2') \n",
        "  \n",
        "plt.xticks(rotation='vertical',size='20',color='white') \n",
        "plt.yticks(size=20,color='white') \n",
        "plt.tick_params(size=20,color='white') \n",
        "  \n",
        "for i,j in zip(X,Y): \n",
        "    ax.annotate(str(j),xy=(i,j+100),color='white',size='13') \n",
        "      \n",
        "ax.annotate('Second Lockdown 15th April', \n",
        "            xy=(15.2, 860), \n",
        "            xytext=(19.9,500), \n",
        "            color='white', \n",
        "            size='25', \n",
        "            arrowprops=dict(color='white', \n",
        "                            linewidth=0.025)) \n",
        "  \n",
        "plt.title(\"COVID-19 IN : Daily Confrimed\\n\", \n",
        "          size=50,color='#28a9ff') \n",
        "plt.setp(ax.get_xticklabels(), rotation = 45)\n",
        "ax.plot(X,Y, \n",
        "        color='#1F77B4', \n",
        "        marker='o', \n",
        "        linewidth=4, \n",
        "        markersize=15, \n",
        "        markeredgecolor='#035E9B')\n"
      ],
      "execution_count": null,
      "outputs": [
        {
          "output_type": "execute_result",
          "data": {
            "text/plain": [
              "[<matplotlib.lines.Line2D at 0x7f24b07bcf28>]"
            ]
          },
          "metadata": {
            "tags": []
          },
          "execution_count": 25
        },
        {
          "output_type": "display_data",
          "data": {
            "image/png": "[encoded data removed]",
            "text/plain": [
              "<Figure size 1800x576 with 1 Axes>"
            ]
          },
          "metadata": {
            "tags": [],
            "needs_background": "dark"
          }
        }
      ]
    },
    {
      "cell_type": "code",
      "metadata": {
        "id": "xXshTyOH91hJ",
        "colab_type": "code",
        "colab": {
          "base_uri": "https://localhost:8080/",
          "height": 671
        },
        "outputId": "f60ff376-2e55-403b-8f09-16f52eaa1ba7"
      },
      "source": [
        "import numpy as np \n",
        "import pandas as pd \n",
        "import matplotlib.pyplot as plt \n",
        "  \n",
        "URL_DATASET = r'https://raw.githubusercontent.com/datasets/covid-19/master/data/countries-aggregated.csv'\n",
        "df1 = pd.read_csv(URL_DATASET) \n",
        "data = df1[df1['Country']=='India']\n",
        "  \n",
        "Y = data.iloc[150:,2].values  \n",
        "R = data.iloc[150:,3].values  \n",
        "D = data.iloc[150:,4].values  \n",
        "X = data.iloc[150:,0].values\n",
        "#X=[]\n",
        "#for i in range(len(X1)):\n",
        "#  X.append(X1[i][len(X1[i])-5:len(X1[i])])\n",
        "#print(X)  \n",
        "\n",
        "plt.figure(figsize=(15,10)) \n",
        "  \n",
        "ax = plt.axes() \n",
        "ax.grid(linewidth=0.4, color='#8f8f8f')  \n",
        "  \n",
        "ax.set_facecolor(\"black\")  \n",
        "ax.set_xlabel('\\nDate',size=25,color='#4bb4f2') \n",
        "ax.set_ylabel('Number of Confirmed Cases\\n', \n",
        "              size=25,color='#4bb4f2') \n",
        "  \n",
        "for i,j in zip(X,Y): \n",
        "    ax.annotate(str(j),xy=(i,j+100),color='white',size='13') \n",
        "plt.setp(ax.get_xticklabels(), rotation = 90)\n",
        "ax.plot(X,Y, \n",
        "        color='#1F77B4', \n",
        "        marker='o', \n",
        "        linewidth=3, \n",
        "        markersize=15, \n",
        "        markeredgecolor='#035E9B')\n"
      ],
      "execution_count": null,
      "outputs": [
        {
          "output_type": "execute_result",
          "data": {
            "text/plain": [
              "[<matplotlib.lines.Line2D at 0x7f24b0727630>]"
            ]
          },
          "metadata": {
            "tags": []
          },
          "execution_count": 26
        },
        {
          "output_type": "display_data",
          "data": {
            "image/png": "[encoded data removed]",
            "text/plain": [
              "<Figure size 1080x720 with 1 Axes>"
            ]
          },
          "metadata": {
            "tags": [],
            "needs_background": "light"
          }
        }
      ]
    },
    {
      "cell_type": "code",
      "metadata": {
        "id": "KUDBBbj64Ad_",
        "colab_type": "code",
        "colab": {}
      },
      "source": [
        "import numpy as np \n",
        "import pandas as pd \n",
        "import matplotlib.pyplot as plt \n",
        "  \n",
        "URL_DATASET = r'https://raw.githubusercontent.com/datasets/covid-19/master/data/countries-aggregated.csv'\n",
        "df1 = pd.read_csv(URL_DATASET) \n",
        "data = df1[df1['Country']=='China']"
      ],
      "execution_count": null,
      "outputs": []
    },
    {
      "cell_type": "code",
      "metadata": {
        "id": "_ORf5Scz7Ef_",
        "colab_type": "code",
        "colab": {
          "base_uri": "https://localhost:8080/",
          "height": 34
        },
        "outputId": "7e0b1673-1fd7-4387-9777-2705e1dea8d5"
      },
      "source": [
        "data.shape"
      ],
      "execution_count": null,
      "outputs": [
        {
          "output_type": "execute_result",
          "data": {
            "text/plain": [
              "(182, 5)"
            ]
          },
          "metadata": {
            "tags": []
          },
          "execution_count": 72
        }
      ]
    },
    {
      "cell_type": "code",
      "metadata": {
        "id": "gb8TLoWm7GTq",
        "colab_type": "code",
        "colab": {
          "base_uri": "https://localhost:8080/",
          "height": 119
        },
        "outputId": "63ec25b8-434b-42a0-8e24-aa2ce0cd0f42"
      },
      "source": [
        "data.iloc[181]"
      ],
      "execution_count": null,
      "outputs": [
        {
          "output_type": "execute_result",
          "data": {
            "text/plain": [
              "Date         2020-07-21\n",
              "Country           China\n",
              "Confirmed         85708\n",
              "Recovered         80204\n",
              "Deaths             4648\n",
              "Name: 34064, dtype: object"
            ]
          },
          "metadata": {
            "tags": []
          },
          "execution_count": 73
        }
      ]
    },
    {
      "cell_type": "code",
      "metadata": {
        "id": "y5rcF7r273l0",
        "colab_type": "code",
        "colab": {}
      },
      "source": [
        "url = 'https://opendata.ecdc.europa.eu/covid19/casedistribution/csv'\n",
        "data = pd.read_csv(url)"
      ],
      "execution_count": null,
      "outputs": []
    },
    {
      "cell_type": "code",
      "metadata": {
        "id": "t47QddWmUkY1",
        "colab_type": "code",
        "colab": {
          "base_uri": "https://localhost:8080/",
          "height": 241
        },
        "outputId": "fbb35082-d314-4bf5-b7e4-bff6030c2cd0"
      },
      "source": [
        "data.head()"
      ],
      "execution_count": null,
      "outputs": [
        {
          "output_type": "execute_result",
          "data": {
            "text/html": [
              "<div>\n",
              "<style scoped>\n",
              "    .dataframe tbody tr th:only-of-type {\n",
              "        vertical-align: middle;\n",
              "    }\n",
              "\n",
              "    .dataframe tbody tr th {\n",
              "        vertical-align: top;\n",
              "    }\n",
              "\n",
              "    .dataframe thead th {\n",
              "        text-align: right;\n",
              "    }\n",
              "</style>\n",
              "<table border=\"1\" class=\"dataframe\">\n",
              "  <thead>\n",
              "    <tr style=\"text-align: right;\">\n",
              "      <th></th>\n",
              "      <th>dateRep</th>\n",
              "      <th>day</th>\n",
              "      <th>month</th>\n",
              "      <th>year</th>\n",
              "      <th>cases</th>\n",
              "      <th>deaths</th>\n",
              "      <th>countriesAndTerritories</th>\n",
              "      <th>geoId</th>\n",
              "      <th>countryterritoryCode</th>\n",
              "      <th>popData2019</th>\n",
              "      <th>continentExp</th>\n",
              "      <th>Cumulative_number_for_14_days_of_COVID-19_cases_per_100000</th>\n",
              "    </tr>\n",
              "  </thead>\n",
              "  <tbody>\n",
              "    <tr>\n",
              "      <th>0</th>\n",
              "      <td>22/07/2020</td>\n",
              "      <td>22</td>\n",
              "      <td>7</td>\n",
              "      <td>2020</td>\n",
              "      <td>112</td>\n",
              "      <td>4</td>\n",
              "      <td>Afghanistan</td>\n",
              "      <td>AF</td>\n",
              "      <td>AFG</td>\n",
              "      <td>38041757.0</td>\n",
              "      <td>Asia</td>\n",
              "      <td>5.606997</td>\n",
              "    </tr>\n",
              "    <tr>\n",
              "      <th>1</th>\n",
              "      <td>21/07/2020</td>\n",
              "      <td>21</td>\n",
              "      <td>7</td>\n",
              "      <td>2020</td>\n",
              "      <td>140</td>\n",
              "      <td>5</td>\n",
              "      <td>Afghanistan</td>\n",
              "      <td>AF</td>\n",
              "      <td>AFG</td>\n",
              "      <td>38041757.0</td>\n",
              "      <td>Asia</td>\n",
              "      <td>5.864608</td>\n",
              "    </tr>\n",
              "    <tr>\n",
              "      <th>2</th>\n",
              "      <td>20/07/2020</td>\n",
              "      <td>20</td>\n",
              "      <td>7</td>\n",
              "      <td>2020</td>\n",
              "      <td>174</td>\n",
              "      <td>17</td>\n",
              "      <td>Afghanistan</td>\n",
              "      <td>AF</td>\n",
              "      <td>AFG</td>\n",
              "      <td>38041757.0</td>\n",
              "      <td>Asia</td>\n",
              "      <td>6.634814</td>\n",
              "    </tr>\n",
              "    <tr>\n",
              "      <th>3</th>\n",
              "      <td>19/07/2020</td>\n",
              "      <td>19</td>\n",
              "      <td>7</td>\n",
              "      <td>2020</td>\n",
              "      <td>12</td>\n",
              "      <td>17</td>\n",
              "      <td>Afghanistan</td>\n",
              "      <td>AF</td>\n",
              "      <td>AFG</td>\n",
              "      <td>38041757.0</td>\n",
              "      <td>Asia</td>\n",
              "      <td>6.910827</td>\n",
              "    </tr>\n",
              "    <tr>\n",
              "      <th>4</th>\n",
              "      <td>18/07/2020</td>\n",
              "      <td>18</td>\n",
              "      <td>7</td>\n",
              "      <td>2020</td>\n",
              "      <td>219</td>\n",
              "      <td>32</td>\n",
              "      <td>Afghanistan</td>\n",
              "      <td>AF</td>\n",
              "      <td>AFG</td>\n",
              "      <td>38041757.0</td>\n",
              "      <td>Asia</td>\n",
              "      <td>7.794067</td>\n",
              "    </tr>\n",
              "  </tbody>\n",
              "</table>\n",
              "</div>"
            ],
            "text/plain": [
              "      dateRep  ...  Cumulative_number_for_14_days_of_COVID-19_cases_per_100000\n",
              "0  22/07/2020  ...                                           5.606997         \n",
              "1  21/07/2020  ...                                           5.864608         \n",
              "2  20/07/2020  ...                                           6.634814         \n",
              "3  19/07/2020  ...                                           6.910827         \n",
              "4  18/07/2020  ...                                           7.794067         \n",
              "\n",
              "[5 rows x 12 columns]"
            ]
          },
          "metadata": {
            "tags": []
          },
          "execution_count": 75
        }
      ]
    },
    {
      "cell_type": "code",
      "metadata": {
        "id": "sxivPA-DUoSx",
        "colab_type": "code",
        "colab": {
          "base_uri": "https://localhost:8080/",
          "height": 238
        },
        "outputId": "95ff18ad-c26c-4aff-91a0-91415a2d170c"
      },
      "source": [
        "data[data['countriesAndTerritories'] ==\"India\"].iloc[0]"
      ],
      "execution_count": null,
      "outputs": [
        {
          "output_type": "execute_result",
          "data": {
            "text/plain": [
              "dateRep                                                        22/07/2020\n",
              "day                                                                    22\n",
              "month                                                                   7\n",
              "year                                                                 2020\n",
              "cases                                                                8992\n",
              "deaths                                                                648\n",
              "countriesAndTerritories                                             India\n",
              "geoId                                                                  IN\n",
              "countryterritoryCode                                                  IND\n",
              "popData2019                                                   1.36642e+09\n",
              "continentExp                                                         Asia\n",
              "Cumulative_number_for_14_days_of_COVID-19_cases_per_100000        30.8665\n",
              "Name: 13550, dtype: object"
            ]
          },
          "metadata": {
            "tags": []
          },
          "execution_count": 82
        }
      ]
    },
    {
      "cell_type": "code",
      "metadata": {
        "id": "ojn3Yw67U4dl",
        "colab_type": "code",
        "colab": {
          "base_uri": "https://localhost:8080/",
          "height": 221
        },
        "outputId": "360125df-2688-4d98-9523-4a49bf94093e"
      },
      "source": [
        "data['countriesAndTerritories']"
      ],
      "execution_count": null,
      "outputs": [
        {
          "output_type": "execute_result",
          "data": {
            "text/plain": [
              "0        Afghanistan\n",
              "1        Afghanistan\n",
              "2        Afghanistan\n",
              "3        Afghanistan\n",
              "4        Afghanistan\n",
              "            ...     \n",
              "31382       Zimbabwe\n",
              "31383       Zimbabwe\n",
              "31384       Zimbabwe\n",
              "31385       Zimbabwe\n",
              "31386       Zimbabwe\n",
              "Name: countriesAndTerritories, Length: 31387, dtype: object"
            ]
          },
          "metadata": {
            "tags": []
          },
          "execution_count": 86
        }
      ]
    },
    {
      "cell_type": "code",
      "metadata": {
        "id": "YdnyhjJVVuvB",
        "colab_type": "code",
        "colab": {
          "base_uri": "https://localhost:8080/",
          "height": 54
        },
        "outputId": "1481a213-c15c-4213-fd5d-07d2b0dd203a"
      },
      "source": [
        "mylist = data['countriesAndTerritories'].tolist()\n",
        "\n",
        "mylist = list(dict.fromkeys(mylist))\n",
        "print(mylist)"
      ],
      "execution_count": null,
      "outputs": [
        {
          "output_type": "stream",
          "text": [
            "['Afghanistan', 'Albania', 'Algeria', 'Andorra', 'Angola', 'Anguilla', 'Antigua_and_Barbuda', 'Argentina', 'Armenia', 'Aruba', 'Australia', 'Austria', 'Azerbaijan', 'Bahamas', 'Bahrain', 'Bangladesh', 'Barbados', 'Belarus', 'Belgium', 'Belize', 'Benin', 'Bermuda', 'Bhutan', 'Bolivia', 'Bonaire, Saint Eustatius and Saba', 'Bosnia_and_Herzegovina', 'Botswana', 'Brazil', 'British_Virgin_Islands', 'Brunei_Darussalam', 'Bulgaria', 'Burkina_Faso', 'Burundi', 'Cambodia', 'Cameroon', 'Canada', 'Cape_Verde', 'Cases_on_an_international_conveyance_Japan', 'Cayman_Islands', 'Central_African_Republic', 'Chad', 'Chile', 'China', 'Colombia', 'Comoros', 'Congo', 'Costa_Rica', 'Cote_dIvoire', 'Croatia', 'Cuba', 'Curaçao', 'Cyprus', 'Czechia', 'Democratic_Republic_of_the_Congo', 'Denmark', 'Djibouti', 'Dominica', 'Dominican_Republic', 'Ecuador', 'Egypt', 'El_Salvador', 'Equatorial_Guinea', 'Eritrea', 'Estonia', 'Eswatini', 'Ethiopia', 'Falkland_Islands_(Malvinas)', 'Faroe_Islands', 'Fiji', 'Finland', 'France', 'French_Polynesia', 'Gabon', 'Gambia', 'Georgia', 'Germany', 'Ghana', 'Gibraltar', 'Greece', 'Greenland', 'Grenada', 'Guam', 'Guatemala', 'Guernsey', 'Guinea', 'Guinea_Bissau', 'Guyana', 'Haiti', 'Holy_See', 'Honduras', 'Hungary', 'Iceland', 'India', 'Indonesia', 'Iran', 'Iraq', 'Ireland', 'Isle_of_Man', 'Israel', 'Italy', 'Jamaica', 'Japan', 'Jersey', 'Jordan', 'Kazakhstan', 'Kenya', 'Kosovo', 'Kuwait', 'Kyrgyzstan', 'Laos', 'Latvia', 'Lebanon', 'Lesotho', 'Liberia', 'Libya', 'Liechtenstein', 'Lithuania', 'Luxembourg', 'Madagascar', 'Malawi', 'Malaysia', 'Maldives', 'Mali', 'Malta', 'Mauritania', 'Mauritius', 'Mexico', 'Moldova', 'Monaco', 'Mongolia', 'Montenegro', 'Montserrat', 'Morocco', 'Mozambique', 'Myanmar', 'Namibia', 'Nepal', 'Netherlands', 'New_Caledonia', 'New_Zealand', 'Nicaragua', 'Niger', 'Nigeria', 'North_Macedonia', 'Northern_Mariana_Islands', 'Norway', 'Oman', 'Pakistan', 'Palestine', 'Panama', 'Papua_New_Guinea', 'Paraguay', 'Peru', 'Philippines', 'Poland', 'Portugal', 'Puerto_Rico', 'Qatar', 'Romania', 'Russia', 'Rwanda', 'Saint_Kitts_and_Nevis', 'Saint_Lucia', 'Saint_Vincent_and_the_Grenadines', 'San_Marino', 'Sao_Tome_and_Principe', 'Saudi_Arabia', 'Senegal', 'Serbia', 'Seychelles', 'Sierra_Leone', 'Singapore', 'Sint_Maarten', 'Slovakia', 'Slovenia', 'Somalia', 'South_Africa', 'South_Korea', 'South_Sudan', 'Spain', 'Sri_Lanka', 'Sudan', 'Suriname', 'Sweden', 'Switzerland', 'Syria', 'Taiwan', 'Tajikistan', 'Thailand', 'Timor_Leste', 'Togo', 'Trinidad_and_Tobago', 'Tunisia', 'Turkey', 'Turks_and_Caicos_islands', 'Uganda', 'Ukraine', 'United_Arab_Emirates', 'United_Kingdom', 'United_Republic_of_Tanzania', 'United_States_of_America', 'United_States_Virgin_Islands', 'Uruguay', 'Uzbekistan', 'Venezuela', 'Vietnam', 'Western_Sahara', 'Yemen', 'Zambia', 'Zimbabwe']\n"
          ],
          "name": "stdout"
        }
      ]
    },
    {
      "cell_type": "code",
      "metadata": {
        "id": "we2hdYvGWT0j",
        "colab_type": "code",
        "colab": {}
      },
      "source": [
        "country = mylist[len(mylist)-10:len(mylist)]"
      ],
      "execution_count": null,
      "outputs": []
    },
    {
      "cell_type": "code",
      "metadata": {
        "id": "uX9lLakCXom7",
        "colab_type": "code",
        "colab": {
          "base_uri": "https://localhost:8080/",
          "height": 187
        },
        "outputId": "23942171-56bc-42cc-e3d7-658f7490a54b"
      },
      "source": [
        "for i in range(len(country)):\n",
        "  day22 = data[data['countriesAndTerritories'] ==country[i]].iloc[0]\n",
        "  print(country[i]+'  '+str(day22[\"cases\"]))\n"
      ],
      "execution_count": null,
      "outputs": [
        {
          "output_type": "stream",
          "text": [
            "United_States_of_America  72048\n",
            "United_States_Virgin_Islands  12\n",
            "Uruguay  32\n",
            "Uzbekistan  581\n",
            "Venezuela  440\n",
            "Vietnam  28\n",
            "Western_Sahara  0\n",
            "Yemen  10\n",
            "Zambia  0\n",
            "Zimbabwe  107\n"
          ],
          "name": "stdout"
        }
      ]
    },
    {
      "cell_type": "code",
      "metadata": {
        "id": "oLjzmgMUYMId",
        "colab_type": "code",
        "colab": {}
      },
      "source": [
        "import pandas as pd\n",
        "\n",
        "URL_DATASET = r'https://raw.githubusercontent.com/datasets/covid-19/master/data/countries-aggregated.csv'\n",
        "data = pd.read_csv(URL_DATASET)"
      ],
      "execution_count": null,
      "outputs": []
    },
    {
      "cell_type": "code",
      "metadata": {
        "id": "R06bKeVtaJRn",
        "colab_type": "code",
        "colab": {
          "base_uri": "https://localhost:8080/",
          "height": 204
        },
        "outputId": "ca4e708e-5533-4b7b-f948-b6783ed83ddf"
      },
      "source": [
        "data.head()"
      ],
      "execution_count": null,
      "outputs": [
        {
          "output_type": "execute_result",
          "data": {
            "text/html": [
              "<div>\n",
              "<style scoped>\n",
              "    .dataframe tbody tr th:only-of-type {\n",
              "        vertical-align: middle;\n",
              "    }\n",
              "\n",
              "    .dataframe tbody tr th {\n",
              "        vertical-align: top;\n",
              "    }\n",
              "\n",
              "    .dataframe thead th {\n",
              "        text-align: right;\n",
              "    }\n",
              "</style>\n",
              "<table border=\"1\" class=\"dataframe\">\n",
              "  <thead>\n",
              "    <tr style=\"text-align: right;\">\n",
              "      <th></th>\n",
              "      <th>Date</th>\n",
              "      <th>Country</th>\n",
              "      <th>Confirmed</th>\n",
              "      <th>Recovered</th>\n",
              "      <th>Deaths</th>\n",
              "    </tr>\n",
              "  </thead>\n",
              "  <tbody>\n",
              "    <tr>\n",
              "      <th>0</th>\n",
              "      <td>2020-01-22</td>\n",
              "      <td>Afghanistan</td>\n",
              "      <td>0</td>\n",
              "      <td>0</td>\n",
              "      <td>0</td>\n",
              "    </tr>\n",
              "    <tr>\n",
              "      <th>1</th>\n",
              "      <td>2020-01-22</td>\n",
              "      <td>Albania</td>\n",
              "      <td>0</td>\n",
              "      <td>0</td>\n",
              "      <td>0</td>\n",
              "    </tr>\n",
              "    <tr>\n",
              "      <th>2</th>\n",
              "      <td>2020-01-22</td>\n",
              "      <td>Algeria</td>\n",
              "      <td>0</td>\n",
              "      <td>0</td>\n",
              "      <td>0</td>\n",
              "    </tr>\n",
              "    <tr>\n",
              "      <th>3</th>\n",
              "      <td>2020-01-22</td>\n",
              "      <td>Andorra</td>\n",
              "      <td>0</td>\n",
              "      <td>0</td>\n",
              "      <td>0</td>\n",
              "    </tr>\n",
              "    <tr>\n",
              "      <th>4</th>\n",
              "      <td>2020-01-22</td>\n",
              "      <td>Angola</td>\n",
              "      <td>0</td>\n",
              "      <td>0</td>\n",
              "      <td>0</td>\n",
              "    </tr>\n",
              "  </tbody>\n",
              "</table>\n",
              "</div>"
            ],
            "text/plain": [
              "         Date      Country  Confirmed  Recovered  Deaths\n",
              "0  2020-01-22  Afghanistan          0          0       0\n",
              "1  2020-01-22      Albania          0          0       0\n",
              "2  2020-01-22      Algeria          0          0       0\n",
              "3  2020-01-22      Andorra          0          0       0\n",
              "4  2020-01-22       Angola          0          0       0"
            ]
          },
          "metadata": {
            "tags": []
          },
          "execution_count": 101
        }
      ]
    },
    {
      "cell_type": "code",
      "metadata": {
        "id": "RPFB56YzaLSo",
        "colab_type": "code",
        "colab": {
          "base_uri": "https://localhost:8080/",
          "height": 54
        },
        "outputId": "ee410662-9394-4d23-9750-a8d40016cdf9"
      },
      "source": [
        "mylist = data['Country'].tolist()\n",
        "\n",
        "mylist = list(dict.fromkeys(mylist))\n",
        "print(mylist)"
      ],
      "execution_count": null,
      "outputs": [
        {
          "output_type": "stream",
          "text": [
            "['Afghanistan', 'Albania', 'Algeria', 'Andorra', 'Angola', 'Antigua and Barbuda', 'Argentina', 'Armenia', 'Australia', 'Austria', 'Azerbaijan', 'Bahamas', 'Bahrain', 'Bangladesh', 'Barbados', 'Belarus', 'Belgium', 'Belize', 'Benin', 'Bhutan', 'Bolivia', 'Bosnia and Herzegovina', 'Botswana', 'Brazil', 'Brunei', 'Bulgaria', 'Burkina Faso', 'Burma', 'Burundi', 'Cabo Verde', 'Cambodia', 'Cameroon', 'Canada', 'Central African Republic', 'Chad', 'Chile', 'China', 'Colombia', 'Comoros', 'Congo (Brazzaville)', 'Congo (Kinshasa)', 'Costa Rica', \"Cote d'Ivoire\", 'Croatia', 'Cuba', 'Cyprus', 'Czechia', 'Denmark', 'Diamond Princess', 'Djibouti', 'Dominica', 'Dominican Republic', 'Ecuador', 'Egypt', 'El Salvador', 'Equatorial Guinea', 'Eritrea', 'Estonia', 'Eswatini', 'Ethiopia', 'Fiji', 'Finland', 'France', 'Gabon', 'Gambia', 'Georgia', 'Germany', 'Ghana', 'Greece', 'Grenada', 'Guatemala', 'Guinea', 'Guinea-Bissau', 'Guyana', 'Haiti', 'Holy See', 'Honduras', 'Hungary', 'Iceland', 'India', 'Indonesia', 'Iran', 'Iraq', 'Ireland', 'Israel', 'Italy', 'Jamaica', 'Japan', 'Jordan', 'Kazakhstan', 'Kenya', 'Korea, South', 'Kosovo', 'Kuwait', 'Kyrgyzstan', 'Laos', 'Latvia', 'Lebanon', 'Lesotho', 'Liberia', 'Libya', 'Liechtenstein', 'Lithuania', 'Luxembourg', 'MS Zaandam', 'Madagascar', 'Malawi', 'Malaysia', 'Maldives', 'Mali', 'Malta', 'Mauritania', 'Mauritius', 'Mexico', 'Moldova', 'Monaco', 'Mongolia', 'Montenegro', 'Morocco', 'Mozambique', 'Namibia', 'Nepal', 'Netherlands', 'New Zealand', 'Nicaragua', 'Niger', 'Nigeria', 'North Macedonia', 'Norway', 'Oman', 'Pakistan', 'Panama', 'Papua New Guinea', 'Paraguay', 'Peru', 'Philippines', 'Poland', 'Portugal', 'Qatar', 'Romania', 'Russia', 'Rwanda', 'Saint Kitts and Nevis', 'Saint Lucia', 'Saint Vincent and the Grenadines', 'San Marino', 'Sao Tome and Principe', 'Saudi Arabia', 'Senegal', 'Serbia', 'Seychelles', 'Sierra Leone', 'Singapore', 'Slovakia', 'Slovenia', 'Somalia', 'South Africa', 'South Sudan', 'Spain', 'Sri Lanka', 'Sudan', 'Suriname', 'Sweden', 'Switzerland', 'Syria', 'Taiwan*', 'Tajikistan', 'Tanzania', 'Thailand', 'Timor-Leste', 'Togo', 'Trinidad and Tobago', 'Tunisia', 'Turkey', 'US', 'Uganda', 'Ukraine', 'United Arab Emirates', 'United Kingdom', 'Uruguay', 'Uzbekistan', 'Venezuela', 'Vietnam', 'West Bank and Gaza', 'Western Sahara', 'Yemen', 'Zambia', 'Zimbabwe']\n"
          ],
          "name": "stdout"
        }
      ]
    },
    {
      "cell_type": "code",
      "metadata": {
        "id": "-NOXBLO8aWIr",
        "colab_type": "code",
        "colab": {
          "base_uri": "https://localhost:8080/",
          "height": 482
        },
        "outputId": "884301f3-433e-4b2f-ea00-d393d5e02211"
      },
      "source": [
        "import numpy as np\n",
        "import matplotlib.pyplot as plt\n",
        "\n",
        "\n",
        "#for i in range(4):\n",
        "list1 = mylist[len(mylist)-10:len(mylist)]\n",
        "# data to plot\n",
        "n_groups = len(list1)\n",
        "means_frank = []\n",
        "means_guido = []\n",
        "\n",
        "\n",
        "for i in range(n_groups):\n",
        "  country = data[data['Country']==list1[i]]\n",
        "  last = country.shape[0]-1\n",
        "  means_frank.append(country.iloc[last]['Confirmed'])\n",
        "  means_guido.append(country.iloc[last]['Deaths'])\n",
        "# create plot\n",
        "fig, ax = plt.subplots(figsize=(15,8))\n",
        "index = np.arange(n_groups)\n",
        "bar_width = 0.35\n",
        "opacity = 0.8\n",
        "\n",
        "rects1 = plt.bar(index, means_frank, bar_width,\n",
        "alpha=opacity,\n",
        "color='b',\n",
        "label='Confirmed')\n",
        "\n",
        "rects2 = plt.bar(index + bar_width, means_guido, bar_width,\n",
        "alpha=opacity,\n",
        "color='r',\n",
        "label='Deaths')\n",
        "\n",
        "plt.xlabel('Country')\n",
        "plt.ylabel('Summery')\n",
        "plt.title('Covid 19 summery with country')\n",
        "plt.xticks(index + bar_width-0.19, list1)\n",
        "plt.legend()\n",
        "\n",
        "plt.tight_layout()\n",
        "plt.show()"
      ],
      "execution_count": null,
      "outputs": [
        {
          "output_type": "display_data",
          "data": {
            "image/png": "[encoded data removed]",
            "text/plain": [
              "<Figure size 1080x576 with 1 Axes>"
            ]
          },
          "metadata": {
            "tags": [],
            "needs_background": "light"
          }
        }
      ]
    },
    {
      "cell_type": "code",
      "metadata": {
        "id": "p2lnW79wcCJM",
        "colab_type": "code",
        "colab": {}
      },
      "source": [
        "url ='https://opendata.ecdc.europa.eu/covid19/casedistribution/csv'\n",
        "data = pd.read_csv(url)"
      ],
      "execution_count": null,
      "outputs": []
    },
    {
      "cell_type": "code",
      "metadata": {
        "id": "axtnWPceh2G2",
        "colab_type": "code",
        "colab": {
          "base_uri": "https://localhost:8080/",
          "height": 241
        },
        "outputId": "2ecfde40-3588-43d0-ce22-afbcea731e56"
      },
      "source": [
        "data.head()"
      ],
      "execution_count": null,
      "outputs": [
        {
          "output_type": "execute_result",
          "data": {
            "text/html": [
              "<div>\n",
              "<style scoped>\n",
              "    .dataframe tbody tr th:only-of-type {\n",
              "        vertical-align: middle;\n",
              "    }\n",
              "\n",
              "    .dataframe tbody tr th {\n",
              "        vertical-align: top;\n",
              "    }\n",
              "\n",
              "    .dataframe thead th {\n",
              "        text-align: right;\n",
              "    }\n",
              "</style>\n",
              "<table border=\"1\" class=\"dataframe\">\n",
              "  <thead>\n",
              "    <tr style=\"text-align: right;\">\n",
              "      <th></th>\n",
              "      <th>dateRep</th>\n",
              "      <th>day</th>\n",
              "      <th>month</th>\n",
              "      <th>year</th>\n",
              "      <th>cases</th>\n",
              "      <th>deaths</th>\n",
              "      <th>countriesAndTerritories</th>\n",
              "      <th>geoId</th>\n",
              "      <th>countryterritoryCode</th>\n",
              "      <th>popData2019</th>\n",
              "      <th>continentExp</th>\n",
              "      <th>Cumulative_number_for_14_days_of_COVID-19_cases_per_100000</th>\n",
              "    </tr>\n",
              "  </thead>\n",
              "  <tbody>\n",
              "    <tr>\n",
              "      <th>0</th>\n",
              "      <td>22/07/2020</td>\n",
              "      <td>22</td>\n",
              "      <td>7</td>\n",
              "      <td>2020</td>\n",
              "      <td>112</td>\n",
              "      <td>4</td>\n",
              "      <td>Afghanistan</td>\n",
              "      <td>AF</td>\n",
              "      <td>AFG</td>\n",
              "      <td>38041757.0</td>\n",
              "      <td>Asia</td>\n",
              "      <td>5.606997</td>\n",
              "    </tr>\n",
              "    <tr>\n",
              "      <th>1</th>\n",
              "      <td>21/07/2020</td>\n",
              "      <td>21</td>\n",
              "      <td>7</td>\n",
              "      <td>2020</td>\n",
              "      <td>140</td>\n",
              "      <td>5</td>\n",
              "      <td>Afghanistan</td>\n",
              "      <td>AF</td>\n",
              "      <td>AFG</td>\n",
              "      <td>38041757.0</td>\n",
              "      <td>Asia</td>\n",
              "      <td>5.864608</td>\n",
              "    </tr>\n",
              "    <tr>\n",
              "      <th>2</th>\n",
              "      <td>20/07/2020</td>\n",
              "      <td>20</td>\n",
              "      <td>7</td>\n",
              "      <td>2020</td>\n",
              "      <td>174</td>\n",
              "      <td>17</td>\n",
              "      <td>Afghanistan</td>\n",
              "      <td>AF</td>\n",
              "      <td>AFG</td>\n",
              "      <td>38041757.0</td>\n",
              "      <td>Asia</td>\n",
              "      <td>6.634814</td>\n",
              "    </tr>\n",
              "    <tr>\n",
              "      <th>3</th>\n",
              "      <td>19/07/2020</td>\n",
              "      <td>19</td>\n",
              "      <td>7</td>\n",
              "      <td>2020</td>\n",
              "      <td>12</td>\n",
              "      <td>17</td>\n",
              "      <td>Afghanistan</td>\n",
              "      <td>AF</td>\n",
              "      <td>AFG</td>\n",
              "      <td>38041757.0</td>\n",
              "      <td>Asia</td>\n",
              "      <td>6.910827</td>\n",
              "    </tr>\n",
              "    <tr>\n",
              "      <th>4</th>\n",
              "      <td>18/07/2020</td>\n",
              "      <td>18</td>\n",
              "      <td>7</td>\n",
              "      <td>2020</td>\n",
              "      <td>219</td>\n",
              "      <td>32</td>\n",
              "      <td>Afghanistan</td>\n",
              "      <td>AF</td>\n",
              "      <td>AFG</td>\n",
              "      <td>38041757.0</td>\n",
              "      <td>Asia</td>\n",
              "      <td>7.794067</td>\n",
              "    </tr>\n",
              "  </tbody>\n",
              "</table>\n",
              "</div>"
            ],
            "text/plain": [
              "      dateRep  ...  Cumulative_number_for_14_days_of_COVID-19_cases_per_100000\n",
              "0  22/07/2020  ...                                           5.606997         \n",
              "1  21/07/2020  ...                                           5.864608         \n",
              "2  20/07/2020  ...                                           6.634814         \n",
              "3  19/07/2020  ...                                           6.910827         \n",
              "4  18/07/2020  ...                                           7.794067         \n",
              "\n",
              "[5 rows x 12 columns]"
            ]
          },
          "metadata": {
            "tags": []
          },
          "execution_count": 124
        }
      ]
    },
    {
      "cell_type": "code",
      "metadata": {
        "id": "IJ5MMS5miLLJ",
        "colab_type": "code",
        "colab": {}
      },
      "source": [
        "url_total_cases='https://covid.ourworldindata.org/data/ecdc/total_cases.csv'\n",
        "data_total_cases=pd.read_csv(url_total_cases)\n",
        "#data.head()\n",
        "\n",
        "url_total_deaths = 'https://covid.ourworldindata.org/data/ecdc/total_deaths.csv'\n",
        "data_total_deaths= pd.read_csv(url_total_deaths)\n",
        "\n",
        "url_new_cases = 'https://covid.ourworldindata.org/data/ecdc/new_cases.csv' \n",
        "data_url_new_cases = pd.read_csv(url_new_cases)\n",
        "\n",
        "url_new_deaths = 'https://covid.ourworldindata.org/data/ecdc/new_deaths.csv'\n",
        "data_url_new_deaths = pd.read_csv(url_new_deaths)"
      ],
      "execution_count": null,
      "outputs": []
    },
    {
      "cell_type": "code",
      "metadata": {
        "id": "jymwdMZ0ilVz",
        "colab_type": "code",
        "colab": {
          "base_uri": "https://localhost:8080/",
          "height": 221
        },
        "outputId": "c415cd0e-2643-4b80-d94f-bbeaf5e02434"
      },
      "source": [
        "data_total_cases.iloc[data_total_cases.shape[0]-1]"
      ],
      "execution_count": null,
      "outputs": [
        {
          "output_type": "execute_result",
          "data": {
            "text/plain": [
              "date              2020-07-22\n",
              "World               14890516\n",
              "Afghanistan            35727\n",
              "Albania                 4290\n",
              "Algeria                24278\n",
              "                     ...    \n",
              "Vietnam                  401\n",
              "Western Sahara           766\n",
              "Yemen                   1629\n",
              "Zambia                  3326\n",
              "Zimbabwe                1820\n",
              "Name: 204, Length: 212, dtype: object"
            ]
          },
          "metadata": {
            "tags": []
          },
          "execution_count": 128
        }
      ]
    },
    {
      "cell_type": "code",
      "metadata": {
        "id": "gmOoMKqliuV5",
        "colab_type": "code",
        "colab": {
          "base_uri": "https://localhost:8080/",
          "height": 221
        },
        "outputId": "904f3c07-003a-412f-c85c-58e0208d7259"
      },
      "source": [
        "data_total_deaths.iloc[data_total_deaths.shape[0]-1]"
      ],
      "execution_count": null,
      "outputs": [
        {
          "output_type": "execute_result",
          "data": {
            "text/plain": [
              "date              2020-07-22\n",
              "World                 616317\n",
              "Afghanistan             1190\n",
              "Albania                  117\n",
              "Algeria                 1100\n",
              "                     ...    \n",
              "Vietnam                    0\n",
              "Western Sahara             1\n",
              "Yemen                    456\n",
              "Zambia                   120\n",
              "Zimbabwe                  26\n",
              "Name: 204, Length: 212, dtype: object"
            ]
          },
          "metadata": {
            "tags": []
          },
          "execution_count": 130
        }
      ]
    },
    {
      "cell_type": "code",
      "metadata": {
        "id": "noc26-bTkFal",
        "colab_type": "code",
        "colab": {
          "base_uri": "https://localhost:8080/",
          "height": 221
        },
        "outputId": "d7246802-7a26-4d00-f7e1-4f25793522b2"
      },
      "source": [
        "data_url_new_cases.iloc[data_url_new_cases.shape[0]-1]"
      ],
      "execution_count": null,
      "outputs": [
        {
          "output_type": "execute_result",
          "data": {
            "text/plain": [
              "date              2020-07-22\n",
              "World                 208365\n",
              "Afghanistan              112\n",
              "Albania                  119\n",
              "Algeria                  587\n",
              "                     ...    \n",
              "Vietnam                   28\n",
              "Western Sahara             0\n",
              "Yemen                     10\n",
              "Zambia                     0\n",
              "Zimbabwe                 107\n",
              "Name: 204, Length: 212, dtype: object"
            ]
          },
          "metadata": {
            "tags": []
          },
          "execution_count": 131
        }
      ]
    },
    {
      "cell_type": "code",
      "metadata": {
        "id": "xZ5QU9CnkMo0",
        "colab_type": "code",
        "colab": {
          "base_uri": "https://localhost:8080/",
          "height": 221
        },
        "outputId": "f8801817-9526-4500-9ed5-b82777eed868"
      },
      "source": [
        "data_url_new_deaths.iloc[data_url_new_deaths.shape[0]-1]"
      ],
      "execution_count": null,
      "outputs": [
        {
          "output_type": "execute_result",
          "data": {
            "text/plain": [
              "date              2020-07-22\n",
              "World                   6220\n",
              "Afghanistan                4\n",
              "Albania                    4\n",
              "Algeria                   13\n",
              "                     ...    \n",
              "Vietnam                    0\n",
              "Western Sahara             0\n",
              "Yemen                      9\n",
              "Zambia                     0\n",
              "Zimbabwe                   0\n",
              "Name: 204, Length: 212, dtype: object"
            ]
          },
          "metadata": {
            "tags": []
          },
          "execution_count": 132
        }
      ]
    },
    {
      "cell_type": "code",
      "metadata": {
        "id": "R7UrrEwdkS_k",
        "colab_type": "code",
        "colab": {
          "base_uri": "https://localhost:8080/",
          "height": 204
        },
        "outputId": "ef4404bb-4ce7-49ff-aa98-33e8c39fb10c"
      },
      "source": [
        "url = 'https://covid.ourworldindata.org/data/ecdc/full_data.csv'\n",
        "data = pd.read_csv(url)\n",
        "data.iloc[data.shape[0]-1]"
      ],
      "execution_count": null,
      "outputs": [
        {
          "output_type": "execute_result",
          "data": {
            "text/plain": [
              "date               2020-07-22\n",
              "location             Zimbabwe\n",
              "new_cases                 107\n",
              "new_deaths                  0\n",
              "total_cases              1820\n",
              "total_deaths               26\n",
              "weekly_cases              786\n",
              "weekly_deaths               7\n",
              "biweekly_cases           1033\n",
              "biweekly_deaths            17\n",
              "Name: 31917, dtype: object"
            ]
          },
          "metadata": {
            "tags": []
          },
          "execution_count": 134
        }
      ]
    },
    {
      "cell_type": "code",
      "metadata": {
        "id": "6-8TCyedksG2",
        "colab_type": "code",
        "colab": {
          "base_uri": "https://localhost:8080/",
          "height": 204
        },
        "outputId": "da6789f1-fcb8-4f87-ab6d-ce16c9c0e015"
      },
      "source": [
        "url = 'https://covid.ourworldindata.org/data/ecdc/locations.csv'\n",
        "data = pd.read_csv(url)\n",
        "\n",
        "data.head()"
      ],
      "execution_count": null,
      "outputs": [
        {
          "output_type": "execute_result",
          "data": {
            "text/html": [
              "<div>\n",
              "<style scoped>\n",
              "    .dataframe tbody tr th:only-of-type {\n",
              "        vertical-align: middle;\n",
              "    }\n",
              "\n",
              "    .dataframe tbody tr th {\n",
              "        vertical-align: top;\n",
              "    }\n",
              "\n",
              "    .dataframe thead th {\n",
              "        text-align: right;\n",
              "    }\n",
              "</style>\n",
              "<table border=\"1\" class=\"dataframe\">\n",
              "  <thead>\n",
              "    <tr style=\"text-align: right;\">\n",
              "      <th></th>\n",
              "      <th>countriesAndTerritories</th>\n",
              "      <th>location</th>\n",
              "      <th>continent</th>\n",
              "      <th>population_year</th>\n",
              "      <th>population</th>\n",
              "    </tr>\n",
              "  </thead>\n",
              "  <tbody>\n",
              "    <tr>\n",
              "      <th>0</th>\n",
              "      <td>Afghanistan</td>\n",
              "      <td>Afghanistan</td>\n",
              "      <td>Asia</td>\n",
              "      <td>2020.0</td>\n",
              "      <td>38928341.0</td>\n",
              "    </tr>\n",
              "    <tr>\n",
              "      <th>1</th>\n",
              "      <td>Albania</td>\n",
              "      <td>Albania</td>\n",
              "      <td>Europe</td>\n",
              "      <td>2020.0</td>\n",
              "      <td>2877800.0</td>\n",
              "    </tr>\n",
              "    <tr>\n",
              "      <th>2</th>\n",
              "      <td>Algeria</td>\n",
              "      <td>Algeria</td>\n",
              "      <td>Africa</td>\n",
              "      <td>2020.0</td>\n",
              "      <td>43851043.0</td>\n",
              "    </tr>\n",
              "    <tr>\n",
              "      <th>3</th>\n",
              "      <td>Andorra</td>\n",
              "      <td>Andorra</td>\n",
              "      <td>Europe</td>\n",
              "      <td>2020.0</td>\n",
              "      <td>77265.0</td>\n",
              "    </tr>\n",
              "    <tr>\n",
              "      <th>4</th>\n",
              "      <td>Angola</td>\n",
              "      <td>Angola</td>\n",
              "      <td>Africa</td>\n",
              "      <td>2020.0</td>\n",
              "      <td>32866268.0</td>\n",
              "    </tr>\n",
              "  </tbody>\n",
              "</table>\n",
              "</div>"
            ],
            "text/plain": [
              "  countriesAndTerritories     location continent  population_year  population\n",
              "0             Afghanistan  Afghanistan      Asia           2020.0  38928341.0\n",
              "1                 Albania      Albania    Europe           2020.0   2877800.0\n",
              "2                 Algeria      Algeria    Africa           2020.0  43851043.0\n",
              "3                 Andorra      Andorra    Europe           2020.0     77265.0\n",
              "4                  Angola       Angola    Africa           2020.0  32866268.0"
            ]
          },
          "metadata": {
            "tags": []
          },
          "execution_count": 135
        }
      ]
    },
    {
      "cell_type": "code",
      "metadata": {
        "id": "0Gmxl3IHlBG7",
        "colab_type": "code",
        "colab": {}
      },
      "source": [
        ""
      ],
      "execution_count": null,
      "outputs": []
    }
  ]
}